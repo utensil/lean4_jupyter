{
 "cells": [
  {
   "cell_type": "markdown",
   "id": "48a160b4-1234-4e92-a460-e4b77971c58a",
   "metadata": {
    "papermill": {
     "duration": 0.004728,
     "end_time": "2024-06-03T09:59:24.918101",
     "exception": false,
     "start_time": "2024-06-03T09:59:24.913373",
     "status": "completed"
    },
    "tags": []
   },
   "source": [
    "# Tutorial for Lean 4 Jupyter Kernel"
   ]
  },
  {
   "cell_type": "markdown",
   "id": "f64b1423-a35b-4078-a3aa-c0b37b8c3034",
   "metadata": {
    "papermill": {
     "duration": 0.002962,
     "end_time": "2024-06-03T09:59:24.924919",
     "exception": false,
     "start_time": "2024-06-03T09:59:24.921957",
     "status": "completed"
    },
    "tags": []
   },
   "source": [
    "## Commands\n",
    "\n",
    "### Running commands in sequence"
   ]
  },
  {
   "cell_type": "markdown",
   "id": "dc5dfd27-7a3b-4039-8399-3ec7f2550866",
   "metadata": {
    "papermill": {
     "duration": 0.00305,
     "end_time": "2024-06-03T09:59:24.930976",
     "exception": false,
     "start_time": "2024-06-03T09:59:24.927926",
     "status": "completed"
    },
    "tags": []
   },
   "source": [
    "1. You can run commands like defining a function:"
   ]
  },
  {
   "cell_type": "code",
   "execution_count": 1,
   "id": "19f1230f-1dfa-4b30-adad-da2924708bd7",
   "metadata": {
    "papermill": {
     "duration": 0.383124,
     "end_time": "2024-06-03T09:59:25.317039",
     "exception": false,
     "start_time": "2024-06-03T09:59:24.933915",
     "status": "completed"
    },
    "tags": []
   },
   "outputs": [
    {
     "data": {
      "text/html": [
       "\n",
       "        \n",
       "        <link rel=\"stylesheet\" href=\"https://lean-lang.org/lean4/doc/alectryon.css\">\n",
       "        <link rel=\"stylesheet\" href=\"https://lean-lang.org/lean4/doc/pygments.css\">\n",
       "        <link rel=\"stylesheet\" href=\"https://cdn.jsdelivr.net/gh/utensil/lean4_jupyter@main/vendor/lean4_jupyter.css\">\n",
       "        <script src=\"https://lean-lang.org/lean4/doc/alectryon.js\"></script>\n",
       "        <script src=\"https://lean-lang.org/lean4/doc/highlight.js\"></script>\n",
       "    \n",
       "        <div class=\"alectryon-root alectryon-centered\">\n",
       "            <pre class=\"alectryon-io highlight\"><!-- Generator: Alectryon --><span class=\"alectryon-sentence\"><span class=\"alectryon-input\"><span class=\"kn\">def</span><span class=\"w\"> </span>f<span class=\"w\"> </span>:=<span class=\"w\"> </span><span class=\"mi\">2</span></span></span></pre>\n",
       "<pre class=\"alectryon-io highlight\"><!-- Generator: Alectryon --><span class=\"alectryon-sentence\"><span class=\"alectryon-input\"><span class=\"c1\">--% env 0</span></span></span></pre>\n",
       "        </div>\n",
       "        <details>\n",
       "            <summary>Raw input</summary>\n",
       "            <code>{\"cmd\": \"def f := 2\"}</code>\n",
       "        </details>\n",
       "        <details>\n",
       "            <summary>Raw output</summary>\n",
       "            <code>{\"env\": 0}</code>\n",
       "        </details>\n",
       "    "
      ],
      "text/plain": [
       "def f := 2\n",
       "--% env 0\n",
       "\n",
       "Raw input:\n",
       "{\"cmd\": \"def f := 2\"}\n",
       "Raw output:\n",
       "{\"env\": 0}"
      ]
     },
     "metadata": {},
     "output_type": "display_data"
    }
   ],
   "source": [
    "def f := 2"
   ]
  },
  {
   "cell_type": "markdown",
   "id": "e6367004-30ca-4324-b37c-555a1e0db595",
   "metadata": {
    "papermill": {
     "duration": 0.002813,
     "end_time": "2024-06-03T09:59:25.326577",
     "exception": false,
     "start_time": "2024-06-03T09:59:25.323764",
     "status": "completed"
    },
    "tags": []
   },
   "source": [
    "The inputs are echoed using [alectryon](https://github.com/cpitclaudel/alectryon?tab=readme-ov-file#as-a-library) style annotation of output messages (info, 🟨warning, ❌error) on the corresponding lines (not columns yet), with details of raw input/outputs to [repl](https://github.com/leanprover-community/repl).\n",
    "\n",
    "There's a state that looks like `--% env 0`, it is the state after executing the last command, and will be used as the initial state for executing the next command.\n",
    "\n",
    "You can inspect the raw input/output sent to [repl](https://github.com/leanprover-community/repl) by clicking-to-expand."
   ]
  },
  {
   "cell_type": "markdown",
   "id": "dfc2ac4a-6e7a-40cb-af99-2d8b186884e7",
   "metadata": {
    "papermill": {
     "duration": 0.00322,
     "end_time": "2024-06-03T09:59:25.384509",
     "exception": false,
     "start_time": "2024-06-03T09:59:25.381289",
     "status": "completed"
    },
    "tags": []
   },
   "source": [
    "2. You can also run commands like inspecting declarations:"
   ]
  },
  {
   "cell_type": "code",
   "execution_count": 2,
   "id": "0bdc97f2-2915-4a0c-affd-d3e4e1020cf8",
   "metadata": {
    "papermill": {
     "duration": 0.112906,
     "end_time": "2024-06-03T09:59:25.500522",
     "exception": false,
     "start_time": "2024-06-03T09:59:25.387616",
     "status": "completed"
    },
    "tags": []
   },
   "outputs": [
    {
     "data": {
      "text/html": [
       "\n",
       "        \n",
       "        <link rel=\"stylesheet\" href=\"https://lean-lang.org/lean4/doc/alectryon.css\">\n",
       "        <link rel=\"stylesheet\" href=\"https://lean-lang.org/lean4/doc/pygments.css\">\n",
       "        <link rel=\"stylesheet\" href=\"https://cdn.jsdelivr.net/gh/utensil/lean4_jupyter@main/vendor/lean4_jupyter.css\">\n",
       "        <script src=\"https://lean-lang.org/lean4/doc/alectryon.js\"></script>\n",
       "        <script src=\"https://lean-lang.org/lean4/doc/highlight.js\"></script>\n",
       "    \n",
       "        <div class=\"alectryon-root alectryon-centered\">\n",
       "            <pre class=\"alectryon-io highlight\"><!-- Generator: Alectryon --><span class=\"alectryon-sentence\"><input class=\"alectryon-toggle\" id=\"chk0\" style=\"display: none\" type=\"checkbox\"><label class=\"alectryon-input\" for=\"chk0\"><span class=\"bp\">#</span>check<span class=\"w\"> </span>f</label><small class=\"alectryon-output\"><div><div class=\"alectryon-messages\"><blockquote class=\"alectryon-message\"> f<span class=\"w\"> </span>:<span class=\"w\"> </span>Nat</blockquote></div></div></small></span></pre>\n",
       "<pre class=\"alectryon-io highlight\"><!-- Generator: Alectryon --><span class=\"alectryon-sentence\"><span class=\"alectryon-input\"><span class=\"c1\">--% env 1</span></span></span></pre>\n",
       "        </div>\n",
       "        <details>\n",
       "            <summary>Raw input</summary>\n",
       "            <code>{\"cmd\": \"#check f\", \"env\": 0}</code>\n",
       "        </details>\n",
       "        <details>\n",
       "            <summary>Raw output</summary>\n",
       "            <code>{\"messages\":\r\n",
       " [{\"severity\": \"info\",\r\n",
       "   \"pos\": {\"line\": 1, \"column\": 0},\r\n",
       "   \"endPos\": {\"line\": 1, \"column\": 6},\r\n",
       "   \"data\": \"f : Nat\"}],\r\n",
       " \"env\": 1}</code>\n",
       "        </details>\n",
       "    "
      ],
      "text/plain": [
       "#check f\n",
       "──────▶  f : Nat\n",
       "--% env 1\n",
       "\n",
       "Raw input:\n",
       "{\"cmd\": \"#check f\", \"env\": 0}\n",
       "Raw output:\n",
       "{\"messages\":\r\n",
       " [{\"severity\": \"info\",\r\n",
       "   \"pos\": {\"line\": 1, \"column\": 0},\r\n",
       "   \"endPos\": {\"line\": 1, \"column\": 6},\r\n",
       "   \"data\": \"f : Nat\"}],\r\n",
       " \"env\": 1}"
      ]
     },
     "metadata": {},
     "output_type": "display_data"
    }
   ],
   "source": [
    "#check f"
   ]
  },
  {
   "cell_type": "markdown",
   "id": "08f00220-3215-49da-8b09-d0c4176ad3ad",
   "metadata": {
    "papermill": {
     "duration": 0.002994,
     "end_time": "2024-06-03T09:59:25.506621",
     "exception": false,
     "start_time": "2024-06-03T09:59:25.503627",
     "status": "completed"
    },
    "tags": []
   },
   "source": [
    "3. Or run multiple commands across multiple lines:"
   ]
  },
  {
   "cell_type": "code",
   "execution_count": 3,
   "id": "fda6d1bd-a506-44ce-9aba-768ee5fc0a98",
   "metadata": {
    "papermill": {
     "duration": 0.119231,
     "end_time": "2024-06-03T09:59:25.628626",
     "exception": false,
     "start_time": "2024-06-03T09:59:25.509395",
     "status": "completed"
    },
    "tags": []
   },
   "outputs": [
    {
     "data": {
      "text/html": [
       "\n",
       "        \n",
       "        <link rel=\"stylesheet\" href=\"https://lean-lang.org/lean4/doc/alectryon.css\">\n",
       "        <link rel=\"stylesheet\" href=\"https://lean-lang.org/lean4/doc/pygments.css\">\n",
       "        <link rel=\"stylesheet\" href=\"https://cdn.jsdelivr.net/gh/utensil/lean4_jupyter@main/vendor/lean4_jupyter.css\">\n",
       "        <script src=\"https://lean-lang.org/lean4/doc/alectryon.js\"></script>\n",
       "        <script src=\"https://lean-lang.org/lean4/doc/highlight.js\"></script>\n",
       "    \n",
       "        <div class=\"alectryon-root alectryon-centered\">\n",
       "            <pre class=\"alectryon-io highlight\"><!-- Generator: Alectryon --><span class=\"alectryon-sentence\"><span class=\"alectryon-input\"><span class=\"kn\">def</span><span class=\"w\"> </span>add<span class=\"w\"> </span>(x<span class=\"w\"> </span>y<span class=\"w\"> </span>:<span class=\"w\"> </span>Nat)<span class=\"w\"> </span>:<span class=\"w\"> </span>Nat<span class=\"w\"> </span>:=<span class=\"w\"> </span>x<span class=\"w\"> </span><span class=\"bp\">+</span><span class=\"w\"> </span>y</span></span></pre>\n",
       "<pre class=\"alectryon-io highlight\"><!-- Generator: Alectryon --><span class=\"alectryon-sentence\"><input class=\"alectryon-toggle\" id=\"chk1\" style=\"display: none\" type=\"checkbox\"><label class=\"alectryon-input\" for=\"chk1\"><span class=\"bp\">#</span>print<span class=\"w\"> </span>add</label><small class=\"alectryon-output\"><div><div class=\"alectryon-messages\"><blockquote class=\"alectryon-message\"> <span class=\"kn\">def</span><span class=\"w\"> </span>add<span class=\"w\"> </span>:<span class=\"w\"> </span>Nat<span class=\"w\"> </span><span class=\"bp\">→</span><span class=\"w\"> </span>Nat<span class=\"w\"> </span><span class=\"bp\">→</span><span class=\"w\"> </span>Nat<span class=\"w\"> </span>:=\n",
       "<span class=\"k\">fun</span><span class=\"w\"> </span>x<span class=\"w\"> </span>y<span class=\"w\"> </span><span class=\"bp\">=&gt;</span><span class=\"w\"> </span>x<span class=\"w\"> </span><span class=\"bp\">+</span><span class=\"w\"> </span>y</blockquote></div></div></small></span></pre>\n",
       "<pre class=\"alectryon-io highlight\"><!-- Generator: Alectryon --><span class=\"alectryon-sentence\"><span class=\"alectryon-input\"><span class=\"c1\">--% env 2</span></span></span></pre>\n",
       "        </div>\n",
       "        <details>\n",
       "            <summary>Raw input</summary>\n",
       "            <code>{\"cmd\": \"def add (x y : Nat) : Nat := x + y\\n#print add\", \"env\": 1}</code>\n",
       "        </details>\n",
       "        <details>\n",
       "            <summary>Raw output</summary>\n",
       "            <code>{\"messages\":\r\n",
       " [{\"severity\": \"info\",\r\n",
       "   \"pos\": {\"line\": 2, \"column\": 0},\r\n",
       "   \"endPos\": {\"line\": 2, \"column\": 6},\r\n",
       "   \"data\": \"def add : Nat → Nat → Nat :=\\nfun x y => x + y\"}],\r\n",
       " \"env\": 2}</code>\n",
       "        </details>\n",
       "    "
      ],
      "text/plain": [
       "def add (x y : Nat) : Nat := x + y\n",
       "#print add\n",
       "──────▶  def add : Nat → Nat → Nat :=\n",
       "fun x y => x + y\n",
       "--% env 2\n",
       "\n",
       "Raw input:\n",
       "{\"cmd\": \"def add (x y : Nat) : Nat := x + y\\n#print add\", \"env\": 1}\n",
       "Raw output:\n",
       "{\"messages\":\r\n",
       " [{\"severity\": \"info\",\r\n",
       "   \"pos\": {\"line\": 2, \"column\": 0},\r\n",
       "   \"endPos\": {\"line\": 2, \"column\": 6},\r\n",
       "   \"data\": \"def add : Nat → Nat → Nat :=\\nfun x y => x + y\"}],\r\n",
       " \"env\": 2}"
      ]
     },
     "metadata": {},
     "output_type": "display_data"
    }
   ],
   "source": [
    "def add (x y : Nat) : Nat := x + y\n",
    "#print add"
   ]
  },
  {
   "cell_type": "markdown",
   "id": "befe0437-8dd7-4632-b8f8-86e6e9b3c423",
   "metadata": {
    "papermill": {
     "duration": 0.003094,
     "end_time": "2024-06-03T09:59:25.634998",
     "exception": false,
     "start_time": "2024-06-03T09:59:25.631904",
     "status": "completed"
    },
    "tags": []
   },
   "source": [
    "4. See below for an error:"
   ]
  },
  {
   "cell_type": "code",
   "execution_count": 4,
   "id": "e8824928-0e61-485b-ba75-6bbfb2006c6b",
   "metadata": {
    "papermill": {
     "duration": 0.119374,
     "end_time": "2024-06-03T09:59:25.757175",
     "exception": false,
     "start_time": "2024-06-03T09:59:25.637801",
     "status": "completed"
    },
    "tags": []
   },
   "outputs": [
    {
     "data": {
      "text/html": [
       "\n",
       "        \n",
       "        <link rel=\"stylesheet\" href=\"https://lean-lang.org/lean4/doc/alectryon.css\">\n",
       "        <link rel=\"stylesheet\" href=\"https://lean-lang.org/lean4/doc/pygments.css\">\n",
       "        <link rel=\"stylesheet\" href=\"https://cdn.jsdelivr.net/gh/utensil/lean4_jupyter@main/vendor/lean4_jupyter.css\">\n",
       "        <script src=\"https://lean-lang.org/lean4/doc/alectryon.js\"></script>\n",
       "        <script src=\"https://lean-lang.org/lean4/doc/highlight.js\"></script>\n",
       "    \n",
       "        <div class=\"alectryon-root alectryon-centered\">\n",
       "            <pre class=\"alectryon-io highlight\"><!-- Generator: Alectryon --><span class=\"alectryon-sentence\"><input class=\"alectryon-toggle\" id=\"chk2\" style=\"display: none\" type=\"checkbox\"><label class=\"alectryon-input\" for=\"chk2\"><span class=\"bp\">#</span>check<span class=\"w\"> </span>g</label><small class=\"alectryon-output\"><div><div class=\"alectryon-messages\"><blockquote class=\"alectryon-message\"><span class=\"bp\">❌</span><span class=\"w\"> </span>unknown<span class=\"w\"> </span>identifier<span class=\"w\"> </span><span class=\"bp\">&#39;</span>g&#39;</blockquote></div></div></small></span></pre>\n",
       "<pre class=\"alectryon-io highlight\"><!-- Generator: Alectryon --><span class=\"alectryon-sentence\"><span class=\"alectryon-input\"><span class=\"c1\">--% env 3</span></span></span></pre>\n",
       "        </div>\n",
       "        <details>\n",
       "            <summary>Raw input</summary>\n",
       "            <code>{\"cmd\": \"#check g\", \"env\": 2}</code>\n",
       "        </details>\n",
       "        <details>\n",
       "            <summary>Raw output</summary>\n",
       "            <code>{\"messages\":\r\n",
       " [{\"severity\": \"error\",\r\n",
       "   \"pos\": {\"line\": 1, \"column\": 7},\r\n",
       "   \"endPos\": {\"line\": 1, \"column\": 8},\r\n",
       "   \"data\": \"unknown identifier 'g'\"}],\r\n",
       " \"env\": 3}</code>\n",
       "        </details>\n",
       "    "
      ],
      "text/plain": [
       "#check g\n",
       "       ─▶ ❌ unknown identifier 'g'\n",
       "--% env 3\n",
       "\n",
       "Raw input:\n",
       "{\"cmd\": \"#check g\", \"env\": 2}\n",
       "Raw output:\n",
       "{\"messages\":\r\n",
       " [{\"severity\": \"error\",\r\n",
       "   \"pos\": {\"line\": 1, \"column\": 7},\r\n",
       "   \"endPos\": {\"line\": 1, \"column\": 8},\r\n",
       "   \"data\": \"unknown identifier 'g'\"}],\r\n",
       " \"env\": 3}"
      ]
     },
     "metadata": {},
     "output_type": "display_data"
    }
   ],
   "source": [
    "#check g"
   ]
  },
  {
   "cell_type": "markdown",
   "id": "c1d2a45a-d5eb-49b9-8000-03c831efa227",
   "metadata": {
    "papermill": {
     "duration": 0.004828,
     "end_time": "2024-06-03T09:59:25.765650",
     "exception": false,
     "start_time": "2024-06-03T09:59:25.760822",
     "status": "completed"
    },
    "tags": []
   },
   "source": [
    "### Backtracking\n",
    "\n",
    "Begin with a state like `%env 0` (the syntax mimics Jupyter magic but the output will be prepended with `--` so they are valid Lean comments), you can backtrack. You can actually enter `--%env 0`, `% env 0` or `%e0`. we are trying to be flexible here so you don't need to worry about invalid Lean code, spaces and exact spelling.\n",
    "\n",
    "The following goes back before declaring `add` and try to inspect `add`, which will result in an error:"
   ]
  },
  {
   "cell_type": "code",
   "execution_count": 5,
   "id": "9afd7ef2-375e-44bf-85a6-c48d86ff28ac",
   "metadata": {
    "papermill": {
     "duration": 0.133239,
     "end_time": "2024-06-03T09:59:25.918749",
     "exception": false,
     "start_time": "2024-06-03T09:59:25.785510",
     "status": "completed"
    },
    "tags": []
   },
   "outputs": [
    {
     "data": {
      "text/html": [
       "\n",
       "        \n",
       "        <link rel=\"stylesheet\" href=\"https://lean-lang.org/lean4/doc/alectryon.css\">\n",
       "        <link rel=\"stylesheet\" href=\"https://lean-lang.org/lean4/doc/pygments.css\">\n",
       "        <link rel=\"stylesheet\" href=\"https://cdn.jsdelivr.net/gh/utensil/lean4_jupyter@main/vendor/lean4_jupyter.css\">\n",
       "        <script src=\"https://lean-lang.org/lean4/doc/alectryon.js\"></script>\n",
       "        <script src=\"https://lean-lang.org/lean4/doc/highlight.js\"></script>\n",
       "    \n",
       "        <div class=\"alectryon-root alectryon-centered\">\n",
       "            <pre class=\"alectryon-io highlight\"><!-- Generator: Alectryon --><span class=\"alectryon-sentence\"><span class=\"alectryon-input\"><span class=\"c1\">--%env 1</span></span></span></pre>\n",
       "<pre class=\"alectryon-io highlight\"><!-- Generator: Alectryon --><span class=\"alectryon-sentence\"><input class=\"alectryon-toggle\" id=\"chk3\" style=\"display: none\" type=\"checkbox\"><label class=\"alectryon-input\" for=\"chk3\"><span class=\"bp\">#</span>check<span class=\"w\"> </span>add</label><small class=\"alectryon-output\"><div><div class=\"alectryon-messages\"><blockquote class=\"alectryon-message\"><span class=\"bp\">❌</span><span class=\"w\"> </span>unknown<span class=\"w\"> </span>identifier<span class=\"w\"> </span><span class=\"bp\">&#39;</span>add&#39;</blockquote></div></div></small></span></pre>\n",
       "<pre class=\"alectryon-io highlight\"><!-- Generator: Alectryon --><span class=\"alectryon-sentence\"><span class=\"alectryon-input\"><span class=\"c1\">--% env 4</span></span></span></pre>\n",
       "        </div>\n",
       "        <details>\n",
       "            <summary>Raw input</summary>\n",
       "            <code>{\"cmd\": \"--%env 1\\n#check add\", \"env\": 1}</code>\n",
       "        </details>\n",
       "        <details>\n",
       "            <summary>Raw output</summary>\n",
       "            <code>{\"messages\":\r\n",
       " [{\"severity\": \"error\",\r\n",
       "   \"pos\": {\"line\": 2, \"column\": 7},\r\n",
       "   \"endPos\": {\"line\": 2, \"column\": 10},\r\n",
       "   \"data\": \"unknown identifier 'add'\"}],\r\n",
       " \"env\": 4}</code>\n",
       "        </details>\n",
       "    "
      ],
      "text/plain": [
       "--%env 1\n",
       "#check add\n",
       "       ───▶ ❌ unknown identifier 'add'\n",
       "--% env 4\n",
       "\n",
       "Raw input:\n",
       "{\"cmd\": \"--%env 1\\n#check add\", \"env\": 1}\n",
       "Raw output:\n",
       "{\"messages\":\r\n",
       " [{\"severity\": \"error\",\r\n",
       "   \"pos\": {\"line\": 2, \"column\": 7},\r\n",
       "   \"endPos\": {\"line\": 2, \"column\": 10},\r\n",
       "   \"data\": \"unknown identifier 'add'\"}],\r\n",
       " \"env\": 4}"
      ]
     },
     "metadata": {},
     "output_type": "display_data"
    }
   ],
   "source": [
    "%env 1\n",
    "#check add"
   ]
  },
  {
   "cell_type": "markdown",
   "id": "81059c14-1608-4a4d-8f48-8d1150964bb2",
   "metadata": {
    "papermill": {
     "duration": 0.004972,
     "end_time": "2024-06-03T09:59:25.927369",
     "exception": false,
     "start_time": "2024-06-03T09:59:25.922397",
     "status": "completed"
    },
    "tags": []
   },
   "source": [
    "If you enter [Built-in magic commands](https://ipython.readthedocs.io/en/stable/interactive/magics.html), this should not cause an error, but also has no effect:"
   ]
  },
  {
   "cell_type": "code",
   "execution_count": 6,
   "id": "2d62b040-7d5c-4252-8c0d-78fa7648b9a2",
   "metadata": {
    "papermill": {
     "duration": 0.119732,
     "end_time": "2024-06-03T09:59:26.050754",
     "exception": false,
     "start_time": "2024-06-03T09:59:25.931022",
     "status": "completed"
    },
    "tags": []
   },
   "outputs": [
    {
     "data": {
      "text/html": [
       "\n",
       "        \n",
       "        <link rel=\"stylesheet\" href=\"https://lean-lang.org/lean4/doc/alectryon.css\">\n",
       "        <link rel=\"stylesheet\" href=\"https://lean-lang.org/lean4/doc/pygments.css\">\n",
       "        <link rel=\"stylesheet\" href=\"https://cdn.jsdelivr.net/gh/utensil/lean4_jupyter@main/vendor/lean4_jupyter.css\">\n",
       "        <script src=\"https://lean-lang.org/lean4/doc/alectryon.js\"></script>\n",
       "        <script src=\"https://lean-lang.org/lean4/doc/highlight.js\"></script>\n",
       "    \n",
       "        <div class=\"alectryon-root alectryon-centered\">\n",
       "            <pre class=\"alectryon-io highlight\"><!-- Generator: Alectryon --><span class=\"alectryon-sentence\"><span class=\"alectryon-input\"><span class=\"c1\">--%history</span></span></span></pre>\n",
       "<pre class=\"alectryon-io highlight\"><!-- Generator: Alectryon --><span class=\"alectryon-sentence\"><span class=\"alectryon-input\"><span class=\"kn\">def</span><span class=\"w\"> </span>h<span class=\"w\"> </span>:=<span class=\"w\"> </span><span class=\"mi\">3</span></span></span></pre>\n",
       "<pre class=\"alectryon-io highlight\"><!-- Generator: Alectryon --><span class=\"alectryon-sentence\"><span class=\"alectryon-input\"><span class=\"c1\">--% env 5</span></span></span></pre>\n",
       "        </div>\n",
       "        <details>\n",
       "            <summary>Raw input</summary>\n",
       "            <code>{\"cmd\": \"--%history\\ndef h := 3\", \"env\": 4}</code>\n",
       "        </details>\n",
       "        <details>\n",
       "            <summary>Raw output</summary>\n",
       "            <code>{\"env\": 5}</code>\n",
       "        </details>\n",
       "    "
      ],
      "text/plain": [
       "--%history\n",
       "def h := 3\n",
       "--% env 5\n",
       "\n",
       "Raw input:\n",
       "{\"cmd\": \"--%history\\ndef h := 3\", \"env\": 4}\n",
       "Raw output:\n",
       "{\"env\": 5}"
      ]
     },
     "metadata": {},
     "output_type": "display_data"
    }
   ],
   "source": [
    "%history\n",
    "def h := 3"
   ]
  },
  {
   "cell_type": "markdown",
   "id": "237589b4-d634-4bbb-afcf-eea8ea15a8b2",
   "metadata": {
    "papermill": {
     "duration": 0.003116,
     "end_time": "2024-06-03T09:59:26.059015",
     "exception": false,
     "start_time": "2024-06-03T09:59:26.055899",
     "status": "completed"
    },
    "tags": []
   },
   "source": [
    "## Proofs\n",
    "\n",
    "### Proving sorries"
   ]
  },
  {
   "cell_type": "markdown",
   "id": "01907716-58cd-4731-81df-cafc3076994b",
   "metadata": {
    "papermill": {
     "duration": 0.003159,
     "end_time": "2024-06-03T09:59:26.065430",
     "exception": false,
     "start_time": "2024-06-03T09:59:26.062271",
     "status": "completed"
    },
    "tags": []
   },
   "source": [
    "You can declare a theorem to prove with `sorry`"
   ]
  },
  {
   "cell_type": "code",
   "execution_count": 7,
   "id": "a6739c0f-3107-43bd-8efe-e80956a5f249",
   "metadata": {
    "papermill": {
     "duration": 0.112967,
     "end_time": "2024-06-03T09:59:26.181562",
     "exception": false,
     "start_time": "2024-06-03T09:59:26.068595",
     "status": "completed"
    },
    "tags": []
   },
   "outputs": [
    {
     "data": {
      "text/html": [
       "\n",
       "        \n",
       "        <link rel=\"stylesheet\" href=\"https://lean-lang.org/lean4/doc/alectryon.css\">\n",
       "        <link rel=\"stylesheet\" href=\"https://lean-lang.org/lean4/doc/pygments.css\">\n",
       "        <link rel=\"stylesheet\" href=\"https://cdn.jsdelivr.net/gh/utensil/lean4_jupyter@main/vendor/lean4_jupyter.css\">\n",
       "        <script src=\"https://lean-lang.org/lean4/doc/alectryon.js\"></script>\n",
       "        <script src=\"https://lean-lang.org/lean4/doc/highlight.js\"></script>\n",
       "    \n",
       "        <div class=\"alectryon-root alectryon-centered\">\n",
       "            <pre class=\"alectryon-io highlight\"><!-- Generator: Alectryon --><span class=\"alectryon-sentence\"><input class=\"alectryon-toggle\" id=\"chk4\" style=\"display: none\" type=\"checkbox\"><label class=\"alectryon-input\" for=\"chk4\"><span class=\"kn\">theorem</span><span class=\"w\"> </span>thm1<span class=\"w\"> </span>:<span class=\"w\"> </span><span class=\"mi\">1</span><span class=\"w\"> </span><span class=\"bp\">=</span><span class=\"w\"> </span><span class=\"mi\">1</span><span class=\"w\"> </span>:=<span class=\"w\"> </span><span class=\"gr\">sorry</span></label><small class=\"alectryon-output\"><div><div class=\"alectryon-messages\"><blockquote class=\"alectryon-message\"><span class=\"bp\">🟨</span><span class=\"w\"> </span>declaration<span class=\"w\"> </span>uses<span class=\"w\"> </span><span class=\"bp\">&#39;</span><span class=\"gr\">sorry</span><span class=\"bp\">&#39;</span></blockquote></div></div></small></span></pre>\n",
       "<pre class=\"alectryon-io highlight\"><!-- Generator: Alectryon --><span class=\"alectryon-sentence\"><span class=\"alectryon-input\"><span class=\"c1\">--% env 6</span></span></span></pre>\n",
       "<pre class=\"alectryon-io highlight\"><!-- Generator: Alectryon --><span class=\"alectryon-sentence\"><span class=\"alectryon-input\"><span class=\"c1\">--% prove 0</span></span></span></pre>\n",
       "        </div>\n",
       "        <details>\n",
       "            <summary>Raw input</summary>\n",
       "            <code>{\"cmd\": \"theorem thm1 : 1 = 1 := sorry\", \"env\": 5}</code>\n",
       "        </details>\n",
       "        <details>\n",
       "            <summary>Raw output</summary>\n",
       "            <code>{\"sorries\":\r\n",
       " [{\"proofState\": 0,\r\n",
       "   \"pos\": {\"line\": 1, \"column\": 24},\r\n",
       "   \"goal\": \"⊢ 1 = 1\",\r\n",
       "   \"endPos\": {\"line\": 1, \"column\": 29}}],\r\n",
       " \"messages\":\r\n",
       " [{\"severity\": \"warning\",\r\n",
       "   \"pos\": {\"line\": 1, \"column\": 8},\r\n",
       "   \"endPos\": {\"line\": 1, \"column\": 12},\r\n",
       "   \"data\": \"declaration uses 'sorry'\"}],\r\n",
       " \"env\": 6}</code>\n",
       "        </details>\n",
       "    "
      ],
      "text/plain": [
       "theorem thm1 : 1 = 1 := sorry\n",
       "        ────▶ 🟨 declaration uses 'sorry'\n",
       "--% env 6\n",
       "--% prove 0\n",
       "\n",
       "Raw input:\n",
       "{\"cmd\": \"theorem thm1 : 1 = 1 := sorry\", \"env\": 5}\n",
       "Raw output:\n",
       "{\"sorries\":\r\n",
       " [{\"proofState\": 0,\r\n",
       "   \"pos\": {\"line\": 1, \"column\": 24},\r\n",
       "   \"goal\": \"⊢ 1 = 1\",\r\n",
       "   \"endPos\": {\"line\": 1, \"column\": 29}}],\r\n",
       " \"messages\":\r\n",
       " [{\"severity\": \"warning\",\r\n",
       "   \"pos\": {\"line\": 1, \"column\": 8},\r\n",
       "   \"endPos\": {\"line\": 1, \"column\": 12},\r\n",
       "   \"data\": \"declaration uses 'sorry'\"}],\r\n",
       " \"env\": 6}"
      ]
     },
     "metadata": {},
     "output_type": "display_data"
    }
   ],
   "source": [
    "theorem thm1 : 1 = 1 := sorry"
   ]
  },
  {
   "cell_type": "markdown",
   "id": "9005ad65-7724-4988-be39-47e7558d6ed3",
   "metadata": {
    "papermill": {
     "duration": 0.003394,
     "end_time": "2024-06-03T09:59:26.188346",
     "exception": false,
     "start_time": "2024-06-03T09:59:26.184952",
     "status": "completed"
    },
    "tags": []
   },
   "source": [
    "By default, what you input next would still be another command:"
   ]
  },
  {
   "cell_type": "code",
   "execution_count": 8,
   "id": "711268bc-81eb-4e50-830a-0c576f24678e",
   "metadata": {
    "papermill": {
     "duration": 0.118581,
     "end_time": "2024-06-03T09:59:26.310756",
     "exception": false,
     "start_time": "2024-06-03T09:59:26.192175",
     "status": "completed"
    },
    "tags": []
   },
   "outputs": [
    {
     "data": {
      "text/html": [
       "\n",
       "        \n",
       "        <link rel=\"stylesheet\" href=\"https://lean-lang.org/lean4/doc/alectryon.css\">\n",
       "        <link rel=\"stylesheet\" href=\"https://lean-lang.org/lean4/doc/pygments.css\">\n",
       "        <link rel=\"stylesheet\" href=\"https://cdn.jsdelivr.net/gh/utensil/lean4_jupyter@main/vendor/lean4_jupyter.css\">\n",
       "        <script src=\"https://lean-lang.org/lean4/doc/alectryon.js\"></script>\n",
       "        <script src=\"https://lean-lang.org/lean4/doc/highlight.js\"></script>\n",
       "    \n",
       "        <div class=\"alectryon-root alectryon-centered\">\n",
       "            <pre class=\"alectryon-io highlight\"><!-- Generator: Alectryon --><span class=\"alectryon-sentence\"><input class=\"alectryon-toggle\" id=\"chk5\" style=\"display: none\" type=\"checkbox\"><label class=\"alectryon-input\" for=\"chk5\"><span class=\"bp\">#</span>check<span class=\"w\"> </span>thm1</label><small class=\"alectryon-output\"><div><div class=\"alectryon-messages\"><blockquote class=\"alectryon-message\"> thm1<span class=\"w\"> </span>:<span class=\"w\"> </span><span class=\"mi\">1</span><span class=\"w\"> </span><span class=\"bp\">=</span><span class=\"w\"> </span><span class=\"mi\">1</span></blockquote></div></div></small></span></pre>\n",
       "<pre class=\"alectryon-io highlight\"><!-- Generator: Alectryon --><span class=\"alectryon-sentence\"><span class=\"alectryon-input\"><span class=\"c1\">--% env 7</span></span></span></pre>\n",
       "        </div>\n",
       "        <details>\n",
       "            <summary>Raw input</summary>\n",
       "            <code>{\"cmd\": \"#check thm1\", \"env\": 6}</code>\n",
       "        </details>\n",
       "        <details>\n",
       "            <summary>Raw output</summary>\n",
       "            <code>{\"messages\":\r\n",
       " [{\"severity\": \"info\",\r\n",
       "   \"pos\": {\"line\": 1, \"column\": 0},\r\n",
       "   \"endPos\": {\"line\": 1, \"column\": 6},\r\n",
       "   \"data\": \"thm1 : 1 = 1\"}],\r\n",
       " \"env\": 7}</code>\n",
       "        </details>\n",
       "    "
      ],
      "text/plain": [
       "#check thm1\n",
       "──────▶  thm1 : 1 = 1\n",
       "--% env 7\n",
       "\n",
       "Raw input:\n",
       "{\"cmd\": \"#check thm1\", \"env\": 6}\n",
       "Raw output:\n",
       "{\"messages\":\r\n",
       " [{\"severity\": \"info\",\r\n",
       "   \"pos\": {\"line\": 1, \"column\": 0},\r\n",
       "   \"endPos\": {\"line\": 1, \"column\": 6},\r\n",
       "   \"data\": \"thm1 : 1 = 1\"}],\r\n",
       " \"env\": 7}"
      ]
     },
     "metadata": {},
     "output_type": "display_data"
    }
   ],
   "source": [
    "#check thm1"
   ]
  },
  {
   "cell_type": "markdown",
   "id": "429106b1-5720-4a20-91d7-924ebdb02d68",
   "metadata": {
    "papermill": {
     "duration": 0.0059,
     "end_time": "2024-06-03T09:59:26.321486",
     "exception": false,
     "start_time": "2024-06-03T09:59:26.315586",
     "status": "completed"
    },
    "tags": []
   },
   "source": [
    "Begin with `%proof` will get you into tactic mode to proof the theorem immediately before. Note that you can actually enter `--%proof`, `% proof`, `%prove` or `%p`."
   ]
  },
  {
   "cell_type": "code",
   "execution_count": 9,
   "id": "b7c28110-26f3-4693-a96d-ebc1cda26a3b",
   "metadata": {
    "papermill": {
     "duration": 0.126948,
     "end_time": "2024-06-03T09:59:26.467810",
     "exception": false,
     "start_time": "2024-06-03T09:59:26.340862",
     "status": "completed"
    },
    "tags": []
   },
   "outputs": [
    {
     "data": {
      "text/html": [
       "\n",
       "        \n",
       "        <link rel=\"stylesheet\" href=\"https://lean-lang.org/lean4/doc/alectryon.css\">\n",
       "        <link rel=\"stylesheet\" href=\"https://lean-lang.org/lean4/doc/pygments.css\">\n",
       "        <link rel=\"stylesheet\" href=\"https://cdn.jsdelivr.net/gh/utensil/lean4_jupyter@main/vendor/lean4_jupyter.css\">\n",
       "        <script src=\"https://lean-lang.org/lean4/doc/alectryon.js\"></script>\n",
       "        <script src=\"https://lean-lang.org/lean4/doc/highlight.js\"></script>\n",
       "    \n",
       "        <div class=\"alectryon-root alectryon-centered\">\n",
       "            <pre class=\"alectryon-io highlight\"><!-- Generator: Alectryon --><span class=\"alectryon-sentence\"><input class=\"alectryon-toggle\" id=\"chk6\" style=\"display: none\" type=\"checkbox\"><label class=\"alectryon-input\" for=\"chk6\"><span class=\"kn\">theorem</span><span class=\"w\"> </span>thm2<span class=\"w\"> </span>:<span class=\"w\"> </span><span class=\"mi\">2</span><span class=\"w\"> </span><span class=\"bp\">=</span><span class=\"w\"> </span><span class=\"mi\">2</span><span class=\"w\"> </span>:=<span class=\"w\"> </span><span class=\"gr\">sorry</span></label><small class=\"alectryon-output\"><div><div class=\"alectryon-messages\"><blockquote class=\"alectryon-message\"><span class=\"bp\">🟨</span><span class=\"w\"> </span>declaration<span class=\"w\"> </span>uses<span class=\"w\"> </span><span class=\"bp\">&#39;</span><span class=\"gr\">sorry</span><span class=\"bp\">&#39;</span></blockquote></div></div></small></span></pre>\n",
       "<pre class=\"alectryon-io highlight\"><!-- Generator: Alectryon --><span class=\"alectryon-sentence\"><span class=\"alectryon-input\"><span class=\"c1\">--% env 8</span></span></span></pre>\n",
       "<pre class=\"alectryon-io highlight\"><!-- Generator: Alectryon --><span class=\"alectryon-sentence\"><span class=\"alectryon-input\"><span class=\"c1\">--% prove 1</span></span></span></pre>\n",
       "        </div>\n",
       "        <details>\n",
       "            <summary>Raw input</summary>\n",
       "            <code>{\"cmd\": \"theorem thm2 : 2 = 2 := sorry\", \"env\": 7}</code>\n",
       "        </details>\n",
       "        <details>\n",
       "            <summary>Raw output</summary>\n",
       "            <code>{\"sorries\":\r\n",
       " [{\"proofState\": 1,\r\n",
       "   \"pos\": {\"line\": 1, \"column\": 24},\r\n",
       "   \"goal\": \"⊢ 2 = 2\",\r\n",
       "   \"endPos\": {\"line\": 1, \"column\": 29}}],\r\n",
       " \"messages\":\r\n",
       " [{\"severity\": \"warning\",\r\n",
       "   \"pos\": {\"line\": 1, \"column\": 8},\r\n",
       "   \"endPos\": {\"line\": 1, \"column\": 12},\r\n",
       "   \"data\": \"declaration uses 'sorry'\"}],\r\n",
       " \"env\": 8}</code>\n",
       "        </details>\n",
       "    "
      ],
      "text/plain": [
       "theorem thm2 : 2 = 2 := sorry\n",
       "        ────▶ 🟨 declaration uses 'sorry'\n",
       "--% env 8\n",
       "--% prove 1\n",
       "\n",
       "Raw input:\n",
       "{\"cmd\": \"theorem thm2 : 2 = 2 := sorry\", \"env\": 7}\n",
       "Raw output:\n",
       "{\"sorries\":\r\n",
       " [{\"proofState\": 1,\r\n",
       "   \"pos\": {\"line\": 1, \"column\": 24},\r\n",
       "   \"goal\": \"⊢ 2 = 2\",\r\n",
       "   \"endPos\": {\"line\": 1, \"column\": 29}}],\r\n",
       " \"messages\":\r\n",
       " [{\"severity\": \"warning\",\r\n",
       "   \"pos\": {\"line\": 1, \"column\": 8},\r\n",
       "   \"endPos\": {\"line\": 1, \"column\": 12},\r\n",
       "   \"data\": \"declaration uses 'sorry'\"}],\r\n",
       " \"env\": 8}"
      ]
     },
     "metadata": {},
     "output_type": "display_data"
    }
   ],
   "source": [
    "theorem thm2 : 2 = 2 := sorry"
   ]
  },
  {
   "cell_type": "code",
   "execution_count": 10,
   "id": "1a6549c4-7168-4ff7-b305-3f4f01b5f790",
   "metadata": {
    "papermill": {
     "duration": 0.120325,
     "end_time": "2024-06-03T09:59:26.591929",
     "exception": false,
     "start_time": "2024-06-03T09:59:26.471604",
     "status": "completed"
    },
    "tags": []
   },
   "outputs": [
    {
     "data": {
      "text/html": [
       "\n",
       "        \n",
       "        <link rel=\"stylesheet\" href=\"https://lean-lang.org/lean4/doc/alectryon.css\">\n",
       "        <link rel=\"stylesheet\" href=\"https://lean-lang.org/lean4/doc/pygments.css\">\n",
       "        <link rel=\"stylesheet\" href=\"https://cdn.jsdelivr.net/gh/utensil/lean4_jupyter@main/vendor/lean4_jupyter.css\">\n",
       "        <script src=\"https://lean-lang.org/lean4/doc/alectryon.js\"></script>\n",
       "        <script src=\"https://lean-lang.org/lean4/doc/highlight.js\"></script>\n",
       "    \n",
       "        <div class=\"alectryon-root alectryon-centered\">\n",
       "            <pre class=\"alectryon-io highlight\"><!-- Generator: Alectryon --><span class=\"alectryon-sentence\"><span class=\"alectryon-input\"><span class=\"c1\">--% proof</span></span></span></pre>\n",
       "<pre class=\"alectryon-io highlight\"><!-- Generator: Alectryon --><span class=\"alectryon-sentence\"><input class=\"alectryon-toggle\" id=\"chk7\" style=\"display: none\" type=\"checkbox\"><label class=\"alectryon-input\" for=\"chk7\">rfl</label><small class=\"alectryon-output\"><div><div class=\"alectryon-messages\"><blockquote class=\"alectryon-message\"> Goals<span class=\"w\"> </span>accomplished!<span class=\"w\"> </span><span class=\"bp\">🐙</span></blockquote></div></div></small></span></pre>\n",
       "<pre class=\"alectryon-io highlight\"><!-- Generator: Alectryon --><span class=\"alectryon-sentence\"><span class=\"alectryon-input\"><span class=\"c1\">--% env 8</span></span></span></pre>\n",
       "<pre class=\"alectryon-io highlight\"><!-- Generator: Alectryon --><span class=\"alectryon-sentence\"><span class=\"alectryon-input\"><span class=\"c1\">--% prove 2</span></span></span></pre>\n",
       "        </div>\n",
       "        <details>\n",
       "            <summary>Raw input</summary>\n",
       "            <code>{\"tactic\": \"--% proof\\nrfl\", \"proofState\": 1}</code>\n",
       "        </details>\n",
       "        <details>\n",
       "            <summary>Raw output</summary>\n",
       "            <code>{\"proofState\": 2, \"goals\": []}</code>\n",
       "        </details>\n",
       "    "
      ],
      "text/plain": [
       "--% proof\n",
       "rfl\n",
       "▶  Goals accomplished! 🐙\n",
       "--% env 8\n",
       "--% prove 2\n",
       "\n",
       "Raw input:\n",
       "{\"tactic\": \"--% proof\\nrfl\", \"proofState\": 1}\n",
       "Raw output:\n",
       "{\"proofState\": 2, \"goals\": []}"
      ]
     },
     "metadata": {},
     "output_type": "display_data"
    }
   ],
   "source": [
    "% proof\n",
    "rfl"
   ]
  },
  {
   "cell_type": "markdown",
   "id": "5b08db96-2dcc-40da-be4a-4da60402d9b8",
   "metadata": {
    "papermill": {
     "duration": 0.004892,
     "end_time": "2024-06-03T09:59:26.607183",
     "exception": false,
     "start_time": "2024-06-03T09:59:26.602291",
     "status": "completed"
    },
    "tags": []
   },
   "source": [
    "Great!  Goals accomplished! 🐙 "
   ]
  },
  {
   "cell_type": "code",
   "execution_count": 11,
   "id": "49cbe475-21b3-4f48-b2f2-021e75cc48ac",
   "metadata": {
    "papermill": {
     "duration": 0.129133,
     "end_time": "2024-06-03T09:59:26.741412",
     "exception": false,
     "start_time": "2024-06-03T09:59:26.612279",
     "status": "completed"
    },
    "tags": []
   },
   "outputs": [
    {
     "data": {
      "text/html": [
       "\n",
       "        \n",
       "        <link rel=\"stylesheet\" href=\"https://lean-lang.org/lean4/doc/alectryon.css\">\n",
       "        <link rel=\"stylesheet\" href=\"https://lean-lang.org/lean4/doc/pygments.css\">\n",
       "        <link rel=\"stylesheet\" href=\"https://cdn.jsdelivr.net/gh/utensil/lean4_jupyter@main/vendor/lean4_jupyter.css\">\n",
       "        <script src=\"https://lean-lang.org/lean4/doc/alectryon.js\"></script>\n",
       "        <script src=\"https://lean-lang.org/lean4/doc/highlight.js\"></script>\n",
       "    \n",
       "        <div class=\"alectryon-root alectryon-centered\">\n",
       "            <pre class=\"alectryon-io highlight\"><!-- Generator: Alectryon --><span class=\"alectryon-sentence\"><input class=\"alectryon-toggle\" id=\"chk8\" style=\"display: none\" type=\"checkbox\"><label class=\"alectryon-input\" for=\"chk8\"><span class=\"kn\">theorem</span><span class=\"w\"> </span>thm3<span class=\"w\"> </span>{x<span class=\"w\"> </span>y<span class=\"w\"> </span>:<span class=\"w\"> </span>Nat}<span class=\"w\"> </span>:<span class=\"w\"> </span>x<span class=\"w\"> </span><span class=\"bp\">+</span><span class=\"w\"> </span>y<span class=\"w\"> </span><span class=\"bp\">=</span><span class=\"w\"> </span>y<span class=\"w\"> </span><span class=\"bp\">+</span><span class=\"w\"> </span>x<span class=\"w\"> </span>:=<span class=\"w\"> </span><span class=\"gr\">sorry</span></label><small class=\"alectryon-output\"><div><div class=\"alectryon-messages\"><blockquote class=\"alectryon-message\"><span class=\"bp\">🟨</span><span class=\"w\"> </span>declaration<span class=\"w\"> </span>uses<span class=\"w\"> </span><span class=\"bp\">&#39;</span><span class=\"gr\">sorry</span><span class=\"bp\">&#39;</span></blockquote></div></div></small></span></pre>\n",
       "<pre class=\"alectryon-io highlight\"><!-- Generator: Alectryon --><span class=\"alectryon-sentence\"><span class=\"alectryon-input\"><span class=\"c1\">--% env 9</span></span></span></pre>\n",
       "<pre class=\"alectryon-io highlight\"><!-- Generator: Alectryon --><span class=\"alectryon-sentence\"><span class=\"alectryon-input\"><span class=\"c1\">--% prove 3</span></span></span></pre>\n",
       "        </div>\n",
       "        <details>\n",
       "            <summary>Raw input</summary>\n",
       "            <code>{\"cmd\": \"theorem thm3 {x y : Nat} : x + y = y + x := sorry\", \"env\": 8}</code>\n",
       "        </details>\n",
       "        <details>\n",
       "            <summary>Raw output</summary>\n",
       "            <code>{\"sorries\":\r\n",
       " [{\"proofState\": 3,\r\n",
       "   \"pos\": {\"line\": 1, \"column\": 44},\r\n",
       "   \"goal\": \"x y : Nat\\n⊢ x + y = y + x\",\r\n",
       "   \"endPos\": {\"line\": 1, \"column\": 49}}],\r\n",
       " \"messages\":\r\n",
       " [{\"severity\": \"warning\",\r\n",
       "   \"pos\": {\"line\": 1, \"column\": 8},\r\n",
       "   \"endPos\": {\"line\": 1, \"column\": 12},\r\n",
       "   \"data\": \"declaration uses 'sorry'\"}],\r\n",
       " \"env\": 9}</code>\n",
       "        </details>\n",
       "    "
      ],
      "text/plain": [
       "theorem thm3 {x y : Nat} : x + y = y + x := sorry\n",
       "        ────▶ 🟨 declaration uses 'sorry'\n",
       "--% env 9\n",
       "--% prove 3\n",
       "\n",
       "Raw input:\n",
       "{\"cmd\": \"theorem thm3 {x y : Nat} : x + y = y + x := sorry\", \"env\": 8}\n",
       "Raw output:\n",
       "{\"sorries\":\r\n",
       " [{\"proofState\": 3,\r\n",
       "   \"pos\": {\"line\": 1, \"column\": 44},\r\n",
       "   \"goal\": \"x y : Nat\\n⊢ x + y = y + x\",\r\n",
       "   \"endPos\": {\"line\": 1, \"column\": 49}}],\r\n",
       " \"messages\":\r\n",
       " [{\"severity\": \"warning\",\r\n",
       "   \"pos\": {\"line\": 1, \"column\": 8},\r\n",
       "   \"endPos\": {\"line\": 1, \"column\": 12},\r\n",
       "   \"data\": \"declaration uses 'sorry'\"}],\r\n",
       " \"env\": 9}"
      ]
     },
     "metadata": {},
     "output_type": "display_data"
    }
   ],
   "source": [
    "theorem thm3 {x y : Nat} : x + y = y + x := sorry"
   ]
  },
  {
   "cell_type": "markdown",
   "id": "47722d74-0b9f-4097-ab17-843a4c9203dc",
   "metadata": {
    "papermill": {
     "duration": 0.003519,
     "end_time": "2024-06-03T09:59:26.748605",
     "exception": false,
     "start_time": "2024-06-03T09:59:26.745086",
     "status": "completed"
    },
    "tags": []
   },
   "source": [
    "You can also backtrack to a proof state for the goal you want to prove like `--% prove 7`.  Note that you can actually enter just `%prove 3`, `%proof 3` or `%p3`."
   ]
  },
  {
   "cell_type": "code",
   "execution_count": 12,
   "id": "6da107c2-db34-4da7-80ce-cb89eae065a1",
   "metadata": {
    "papermill": {
     "duration": 0.117667,
     "end_time": "2024-06-03T09:59:26.869938",
     "exception": false,
     "start_time": "2024-06-03T09:59:26.752271",
     "status": "completed"
    },
    "tags": []
   },
   "outputs": [
    {
     "data": {
      "text/html": [
       "\n",
       "        \n",
       "        <link rel=\"stylesheet\" href=\"https://lean-lang.org/lean4/doc/alectryon.css\">\n",
       "        <link rel=\"stylesheet\" href=\"https://lean-lang.org/lean4/doc/pygments.css\">\n",
       "        <link rel=\"stylesheet\" href=\"https://cdn.jsdelivr.net/gh/utensil/lean4_jupyter@main/vendor/lean4_jupyter.css\">\n",
       "        <script src=\"https://lean-lang.org/lean4/doc/alectryon.js\"></script>\n",
       "        <script src=\"https://lean-lang.org/lean4/doc/highlight.js\"></script>\n",
       "    \n",
       "        <div class=\"alectryon-root alectryon-centered\">\n",
       "            <pre class=\"alectryon-io highlight\"><!-- Generator: Alectryon --><span class=\"alectryon-sentence\"><span class=\"alectryon-input\"><span class=\"c1\">--% prove 3</span></span></span></pre>\n",
       "<pre class=\"alectryon-io highlight\"><!-- Generator: Alectryon --><span class=\"alectryon-sentence\"><input class=\"alectryon-toggle\" id=\"chk9\" style=\"display: none\" type=\"checkbox\"><label class=\"alectryon-input\" for=\"chk9\">rfl</label><small class=\"alectryon-output\"><div><div class=\"alectryon-messages\"><blockquote class=\"alectryon-message\"><span class=\"bp\">❌</span><span class=\"w\"> </span>Lean<span class=\"w\"> </span>error:\n",
       "The<span class=\"w\"> </span>rfl<span class=\"w\"> </span>tactic<span class=\"w\"> </span>failed<span class=\"bp\">.</span><span class=\"w\"> </span>Possible<span class=\"w\"> </span>reasons:\n",
       "<span class=\"bp\">-</span><span class=\"w\"> </span>The<span class=\"w\"> </span>goal<span class=\"w\"> </span>is<span class=\"w\"> </span>not<span class=\"w\"> </span>a<span class=\"w\"> </span>reflexive<span class=\"w\"> </span>relation<span class=\"w\"> </span>(neither<span class=\"w\"> </span><span class=\"bp\">`=`</span><span class=\"w\"> </span>nor<span class=\"w\"> </span>a<span class=\"w\"> </span>relation<span class=\"w\"> </span><span class=\"k\">with</span><span class=\"w\"> </span>a<span class=\"w\"> </span><span class=\"kd\">@[</span>refl<span class=\"kd\">]</span><span class=\"w\"> </span><span class=\"kn\">lemma</span>)<span class=\"bp\">.</span>\n",
       "<span class=\"bp\">-</span><span class=\"w\"> </span>The<span class=\"w\"> </span>arguments<span class=\"w\"> </span>of<span class=\"w\"> </span>the<span class=\"w\"> </span>relation<span class=\"w\"> </span>are<span class=\"w\"> </span>not<span class=\"w\"> </span>equal<span class=\"bp\">.</span>\n",
       "Try<span class=\"w\"> </span><span class=\"kn\">using</span><span class=\"w\"> </span>the<span class=\"w\"> </span>reflexivity<span class=\"w\"> </span><span class=\"kn\">lemma</span><span class=\"w\"> </span>for<span class=\"w\"> </span>your<span class=\"w\"> </span>relation<span class=\"w\"> </span>explicitly,<span class=\"w\"> </span>e<span class=\"bp\">.</span>g<span class=\"bp\">.</span><span class=\"w\"> </span><span class=\"ss\">`exact</span><span class=\"w\"> </span>Eq<span class=\"bp\">.</span>refl<span class=\"w\"> </span><span class=\"bp\">_`</span><span class=\"w\"> </span>or\n",
       "<span class=\"ss\">`exact</span><span class=\"w\"> </span>HEq<span class=\"bp\">.</span>rfl<span class=\"bp\">`</span><span class=\"w\"> </span>etc<span class=\"bp\">.</span>\n",
       "x<span class=\"w\"> </span>y<span class=\"w\"> </span>:<span class=\"w\"> </span>Nat\n",
       "<span class=\"bp\">⊢</span><span class=\"w\"> </span>x<span class=\"w\"> </span><span class=\"bp\">+</span><span class=\"w\"> </span>y<span class=\"w\"> </span><span class=\"bp\">=</span><span class=\"w\"> </span>y<span class=\"w\"> </span><span class=\"bp\">+</span><span class=\"w\"> </span>x</blockquote></div></div></small></span></pre>\n",
       "<pre class=\"alectryon-io highlight\"><!-- Generator: Alectryon --><span class=\"alectryon-sentence\"><span class=\"alectryon-input\"><span class=\"c1\">--% env 9</span></span></span></pre>\n",
       "        </div>\n",
       "        <details>\n",
       "            <summary>Raw input</summary>\n",
       "            <code>{\"tactic\": \"--% prove 3\\nrfl\", \"proofState\": 3}</code>\n",
       "        </details>\n",
       "        <details>\n",
       "            <summary>Raw output</summary>\n",
       "            <code>{\"message\":\r\n",
       " \"Lean error:\\nThe rfl tactic failed. Possible reasons:\\n- The goal is not a reflexive relation (neither `=` nor a relation with a @[refl] lemma).\\n- The arguments of the relation are not equal.\\nTry using the reflexivity lemma for your relation explicitly, e.g. `exact Eq.refl _` or\\n`exact HEq.rfl` etc.\\nx y : Nat\\n⊢ x + y = y + x\"}</code>\n",
       "        </details>\n",
       "    "
      ],
      "text/plain": [
       "--% prove 3\n",
       "rfl\n",
       "▶ ❌ Lean error:\n",
       "The rfl tactic failed. Possible reasons:\n",
       "- The goal is not a reflexive relation (neither `=` nor a relation with a @[refl] lemma).\n",
       "- The arguments of the relation are not equal.\n",
       "Try using the reflexivity lemma for your relation explicitly, e.g. `exact Eq.refl _` or\n",
       "`exact HEq.rfl` etc.\n",
       "x y : Nat\n",
       "⊢ x + y = y + x\n",
       "--% env 9\n",
       "\n",
       "Raw input:\n",
       "{\"tactic\": \"--% prove 3\\nrfl\", \"proofState\": 3}\n",
       "Raw output:\n",
       "{\"message\":\r\n",
       " \"Lean error:\\nThe rfl tactic failed. Possible reasons:\\n- The goal is not a reflexive relation (neither `=` nor a relation with a @[refl] lemma).\\n- The arguments of the relation are not equal.\\nTry using the reflexivity lemma for your relation explicitly, e.g. `exact Eq.refl _` or\\n`exact HEq.rfl` etc.\\nx y : Nat\\n⊢ x + y = y + x\"}"
      ]
     },
     "metadata": {},
     "output_type": "display_data"
    }
   ],
   "source": [
    "% prove 3\n",
    "rfl"
   ]
  },
  {
   "cell_type": "markdown",
   "id": "4496ec11-dba0-4c57-be89-8384f3042c49",
   "metadata": {
    "papermill": {
     "duration": 0.004838,
     "end_time": "2024-06-03T09:59:26.878617",
     "exception": false,
     "start_time": "2024-06-03T09:59:26.873779",
     "status": "completed"
    },
    "tags": []
   },
   "source": [
    "OK, `rfl` is not enough, let's try some hint:"
   ]
  },
  {
   "cell_type": "code",
   "execution_count": 13,
   "id": "812a098f-1ce3-44d4-8013-f1542e377fb8",
   "metadata": {
    "papermill": {
     "duration": 0.180216,
     "end_time": "2024-06-03T09:59:27.062696",
     "exception": false,
     "start_time": "2024-06-03T09:59:26.882480",
     "status": "completed"
    },
    "tags": []
   },
   "outputs": [
    {
     "data": {
      "text/html": [
       "\n",
       "        \n",
       "        <link rel=\"stylesheet\" href=\"https://lean-lang.org/lean4/doc/alectryon.css\">\n",
       "        <link rel=\"stylesheet\" href=\"https://lean-lang.org/lean4/doc/pygments.css\">\n",
       "        <link rel=\"stylesheet\" href=\"https://cdn.jsdelivr.net/gh/utensil/lean4_jupyter@main/vendor/lean4_jupyter.css\">\n",
       "        <script src=\"https://lean-lang.org/lean4/doc/alectryon.js\"></script>\n",
       "        <script src=\"https://lean-lang.org/lean4/doc/highlight.js\"></script>\n",
       "    \n",
       "        <div class=\"alectryon-root alectryon-centered\">\n",
       "            <pre class=\"alectryon-io highlight\"><!-- Generator: Alectryon --><span class=\"alectryon-sentence\"><span class=\"alectryon-input\"><span class=\"c1\">--% prove 3</span></span></span></pre>\n",
       "<pre class=\"alectryon-io highlight\"><!-- Generator: Alectryon --><span class=\"alectryon-sentence\"><input class=\"alectryon-toggle\" id=\"chka\" style=\"display: none\" type=\"checkbox\"><label class=\"alectryon-input\" for=\"chka\">exact?</label><small class=\"alectryon-output\"><div><div class=\"alectryon-messages\"><blockquote class=\"alectryon-message\"> Try<span class=\"w\"> </span>this:<span class=\"w\"> </span>exact<span class=\"w\"> </span>Nat<span class=\"bp\">.</span>add_comm<span class=\"w\"> </span>x<span class=\"w\"> </span>y</blockquote><blockquote class=\"alectryon-message\"> Goals<span class=\"w\"> </span>accomplished!<span class=\"w\"> </span><span class=\"bp\">🐙</span></blockquote></div></div></small></span></pre>\n",
       "<pre class=\"alectryon-io highlight\"><!-- Generator: Alectryon --><span class=\"alectryon-sentence\"><span class=\"alectryon-input\"><span class=\"c1\">--% env 9</span></span></span></pre>\n",
       "<pre class=\"alectryon-io highlight\"><!-- Generator: Alectryon --><span class=\"alectryon-sentence\"><span class=\"alectryon-input\"><span class=\"c1\">--% prove 4</span></span></span></pre>\n",
       "        </div>\n",
       "        <details>\n",
       "            <summary>Raw input</summary>\n",
       "            <code>{\"tactic\": \"--% prove 3\\nexact?\", \"proofState\": 3}</code>\n",
       "        </details>\n",
       "        <details>\n",
       "            <summary>Raw output</summary>\n",
       "            <code>{\"proofState\": 4,\r\n",
       " \"messages\":\r\n",
       " [{\"severity\": \"info\",\r\n",
       "   \"pos\": {\"line\": 0, \"column\": 0},\r\n",
       "   \"endPos\": {\"line\": 0, \"column\": 0},\r\n",
       "   \"data\": \"Try this: exact Nat.add_comm x y\"}],\r\n",
       " \"goals\": []}</code>\n",
       "        </details>\n",
       "    "
      ],
      "text/plain": [
       "--% prove 3\n",
       "exact?\n",
       "▶  Try this: exact Nat.add_comm x y\n",
       "▶  Goals accomplished! 🐙\n",
       "--% env 9\n",
       "--% prove 4\n",
       "\n",
       "Raw input:\n",
       "{\"tactic\": \"--% prove 3\\nexact?\", \"proofState\": 3}\n",
       "Raw output:\n",
       "{\"proofState\": 4,\r\n",
       " \"messages\":\r\n",
       " [{\"severity\": \"info\",\r\n",
       "   \"pos\": {\"line\": 0, \"column\": 0},\r\n",
       "   \"endPos\": {\"line\": 0, \"column\": 0},\r\n",
       "   \"data\": \"Try this: exact Nat.add_comm x y\"}],\r\n",
       " \"goals\": []}"
      ]
     },
     "metadata": {},
     "output_type": "display_data"
    }
   ],
   "source": [
    "% prove 3\n",
    "exact?"
   ]
  },
  {
   "cell_type": "markdown",
   "id": "8c7a9b17-c13b-49ab-90ae-1ad31162afe1",
   "metadata": {
    "papermill": {
     "duration": 0.003883,
     "end_time": "2024-06-03T09:59:27.077600",
     "exception": false,
     "start_time": "2024-06-03T09:59:27.073717",
     "status": "completed"
    },
    "tags": []
   },
   "source": [
    "Let's use the hint:"
   ]
  },
  {
   "cell_type": "code",
   "execution_count": 14,
   "id": "7de78d37-432a-42d1-a964-2f6ae0d33ff7",
   "metadata": {
    "papermill": {
     "duration": 0.11484,
     "end_time": "2024-06-03T09:59:27.196529",
     "exception": false,
     "start_time": "2024-06-03T09:59:27.081689",
     "status": "completed"
    },
    "tags": []
   },
   "outputs": [
    {
     "data": {
      "text/html": [
       "\n",
       "        \n",
       "        <link rel=\"stylesheet\" href=\"https://lean-lang.org/lean4/doc/alectryon.css\">\n",
       "        <link rel=\"stylesheet\" href=\"https://lean-lang.org/lean4/doc/pygments.css\">\n",
       "        <link rel=\"stylesheet\" href=\"https://cdn.jsdelivr.net/gh/utensil/lean4_jupyter@main/vendor/lean4_jupyter.css\">\n",
       "        <script src=\"https://lean-lang.org/lean4/doc/alectryon.js\"></script>\n",
       "        <script src=\"https://lean-lang.org/lean4/doc/highlight.js\"></script>\n",
       "    \n",
       "        <div class=\"alectryon-root alectryon-centered\">\n",
       "            <pre class=\"alectryon-io highlight\"><!-- Generator: Alectryon --><span class=\"alectryon-sentence\"><span class=\"alectryon-input\"><span class=\"c1\">--% prove 3</span></span></span></pre>\n",
       "<pre class=\"alectryon-io highlight\"><!-- Generator: Alectryon --><span class=\"alectryon-sentence\"><input class=\"alectryon-toggle\" id=\"chkb\" style=\"display: none\" type=\"checkbox\"><label class=\"alectryon-input\" for=\"chkb\">exact<span class=\"w\"> </span>Nat<span class=\"bp\">.</span>add_comm<span class=\"w\"> </span>x<span class=\"w\"> </span>y</label><small class=\"alectryon-output\"><div><div class=\"alectryon-messages\"><blockquote class=\"alectryon-message\"> Goals<span class=\"w\"> </span>accomplished!<span class=\"w\"> </span><span class=\"bp\">🐙</span></blockquote></div></div></small></span></pre>\n",
       "<pre class=\"alectryon-io highlight\"><!-- Generator: Alectryon --><span class=\"alectryon-sentence\"><span class=\"alectryon-input\"><span class=\"c1\">--% env 9</span></span></span></pre>\n",
       "<pre class=\"alectryon-io highlight\"><!-- Generator: Alectryon --><span class=\"alectryon-sentence\"><span class=\"alectryon-input\"><span class=\"c1\">--% prove 5</span></span></span></pre>\n",
       "        </div>\n",
       "        <details>\n",
       "            <summary>Raw input</summary>\n",
       "            <code>{\"tactic\": \"--% prove 3\\nexact Nat.add_comm x y\", \"proofState\": 3}</code>\n",
       "        </details>\n",
       "        <details>\n",
       "            <summary>Raw output</summary>\n",
       "            <code>{\"proofState\": 5, \"goals\": []}</code>\n",
       "        </details>\n",
       "    "
      ],
      "text/plain": [
       "--% prove 3\n",
       "exact Nat.add_comm x y\n",
       "▶  Goals accomplished! 🐙\n",
       "--% env 9\n",
       "--% prove 5\n",
       "\n",
       "Raw input:\n",
       "{\"tactic\": \"--% prove 3\\nexact Nat.add_comm x y\", \"proofState\": 3}\n",
       "Raw output:\n",
       "{\"proofState\": 5, \"goals\": []}"
      ]
     },
     "metadata": {},
     "output_type": "display_data"
    }
   ],
   "source": [
    "% prove 3\n",
    "exact Nat.add_comm x y"
   ]
  },
  {
   "cell_type": "markdown",
   "id": "6b18cb57-fe95-4fd3-9909-e33261ecc7a4",
   "metadata": {
    "papermill": {
     "duration": 0.006054,
     "end_time": "2024-06-03T09:59:27.213496",
     "exception": false,
     "start_time": "2024-06-03T09:59:27.207442",
     "status": "completed"
    },
    "tags": []
   },
   "source": [
    "Voilà! That's what we have so far.\n",
    "\n",
    "Next, you might want to check out [`examples/03_import.ipynb`](https://nbviewer.org/github/utensil/lean4_jupyter/blob/main/examples/03_import.ipynb?flush_cache=true) for use Lean 4 Jupyter kernel in a project."
   ]
  }
 ],
 "metadata": {
  "kernelspec": {
   "display_name": "Lean 4",
   "language": "lean4",
   "name": "lean4"
  },
  "language_info": {
   "codemirror_mode": "python",
   "file_extension": ".lean",
   "mimetype": "text/x-lean4",
   "name": "lean4"
  },
  "papermill": {
   "default_parameters": {},
   "duration": 8.680758,
   "end_time": "2024-06-03T09:59:30.245901",
   "environment_variables": {},
   "exception": null,
   "parameters": {},
   "start_time": "2024-06-03T09:59:21.565143",
   "version": "2.6.0"
  }
 },
 "nbformat": 4,
 "nbformat_minor": 5
}
