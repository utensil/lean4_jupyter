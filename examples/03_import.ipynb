{
 "cells": [
  {
   "cell_type": "markdown",
   "id": "caa3aac4-74b5-43d3-8c47-c5f38a9e0699",
   "metadata": {
    "papermill": {
     "duration": 0.002504,
     "end_time": "2024-06-03T10:00:02.425475",
     "exception": false,
     "start_time": "2024-06-03T10:00:02.422971",
     "status": "completed"
    },
    "tags": []
   },
   "source": [
    "# Lean 4 Jupyter Notebook Demo for importing from projects"
   ]
  },
  {
   "cell_type": "markdown",
   "id": "2a5612bb-d4d3-486a-a47d-0d206f03fbbb",
   "metadata": {
    "papermill": {
     "duration": 0.00188,
     "end_time": "2024-06-03T10:00:02.430320",
     "exception": false,
     "start_time": "2024-06-03T10:00:02.428440",
     "status": "completed"
    },
    "tags": []
   },
   "source": [
    "This notebook demonstrates importing pacakges from projects and their dependencies.\n",
    "\n",
    "## Prepare the demo project before running this notebook\n",
    "\n",
    "`demo_proj` is created with `lake +leanprover-community/mathlib4:lean-toolchain new demo_proj math`, modified only the following in `lakefile.lean`, added `import Mathlib` in `DemoProj/Basic.lean`, then initialized with `lake exe cache get && lake build`.\n",
    "\n",
    "```\n",
    "def leanVersion : String := s!\"v{Lean.versionString}\"\n",
    "\n",
    "require mathlib from git\n",
    "  \"https://github.com/leanprover-community/mathlib4\" @ leanVersion\n",
    "```\n",
    "\n",
    "You need to run `lake build` to ensure it builds before using this notebook.\n",
    "\n",
    "## Running a notebook\n",
    "\n",
    "Use magic `%cd` to change the current working directory to the root of the project, then Lean 4 will pick up the proper Lean toolchain and set up required packages. You may use the following Lean code to confirm the current working directory:\n",
    "\n",
    "```\n",
    "#eval do\n",
    "  return (← IO.currentDir)\n",
    "```\n",
    "\n",
    "The following will take a while to load as it also imports `Mathlib` which is huge."
   ]
  },
  {
   "cell_type": "code",
   "execution_count": 1,
   "id": "8380b3ba-0f60-4e22-9a17-d370f18474c1",
   "metadata": {
    "papermill": {
     "duration": 16.445779,
     "end_time": "2024-06-03T10:00:18.877961",
     "exception": false,
     "start_time": "2024-06-03T10:00:02.432182",
     "status": "completed"
    },
    "tags": []
   },
   "outputs": [
    {
     "data": {
      "text/html": [
       "\n",
       "        \n",
       "        <link rel=\"stylesheet\" href=\"https://lean-lang.org/lean4/doc/alectryon.css\">\n",
       "        <link rel=\"stylesheet\" href=\"https://lean-lang.org/lean4/doc/pygments.css\">\n",
       "        <link rel=\"stylesheet\" href=\"https://cdn.jsdelivr.net/gh/utensil/lean4_jupyter@main/vendor/lean4_jupyter.css\">\n",
       "        <script src=\"https://lean-lang.org/lean4/doc/alectryon.js\"></script>\n",
       "        <script src=\"https://lean-lang.org/lean4/doc/highlight.js\"></script>\n",
       "    \n",
       "        <div class=\"alectryon-root alectryon-centered\">\n",
       "            <pre class=\"alectryon-io highlight\"><!-- Generator: Alectryon --><span class=\"alectryon-sentence\"><span class=\"alectryon-input\"><span class=\"c1\">--%cd demo_proj</span></span></span></pre>\n",
       "<pre class=\"alectryon-io highlight\"><!-- Generator: Alectryon --><span class=\"alectryon-sentence\"><span class=\"alectryon-input\"><span class=\"kn\">import</span><span class=\"w\"> </span><span class=\"bp\">«</span>DemoProj<span class=\"bp\">»</span></span></span></pre>\n",
       "<pre class=\"alectryon-io highlight\"><!-- Generator: Alectryon --><span class=\"alectryon-sentence\"><span class=\"alectryon-input\"><span class=\"c1\">--% env 0</span></span></span></pre>\n",
       "        </div>\n",
       "        <details>\n",
       "            <summary>Raw input</summary>\n",
       "            <code>{\"cmd\": \"--%cd demo_proj\\nimport \\u00abDemoProj\\u00bb\"}</code>\n",
       "        </details>\n",
       "        <details>\n",
       "            <summary>Raw output</summary>\n",
       "            <code>{\"env\": 0}</code>\n",
       "        </details>\n",
       "    "
      ],
      "text/plain": [
       "--%cd demo_proj\n",
       "import «DemoProj»\n",
       "--% env 0\n",
       "\n",
       "Raw input:\n",
       "{\"cmd\": \"--%cd demo_proj\\nimport \\u00abDemoProj\\u00bb\"}\n",
       "Raw output:\n",
       "{\"env\": 0}"
      ]
     },
     "metadata": {},
     "output_type": "display_data"
    }
   ],
   "source": [
    "%cd demo_proj\n",
    "import «DemoProj»"
   ]
  },
  {
   "cell_type": "markdown",
   "id": "62bf4df4-ad5b-446d-9987-2c7157a3c786",
   "metadata": {
    "papermill": {
     "duration": 0.002417,
     "end_time": "2024-06-03T10:00:18.884171",
     "exception": false,
     "start_time": "2024-06-03T10:00:18.881754",
     "status": "completed"
    },
    "tags": []
   },
   "source": [
    "You may confirm that you are on the right toolchain:"
   ]
  },
  {
   "cell_type": "code",
   "execution_count": 2,
   "id": "acaab9f8-782b-4190-b523-0e217e066ae5",
   "metadata": {
    "papermill": {
     "duration": 0.125947,
     "end_time": "2024-06-03T10:00:19.012242",
     "exception": false,
     "start_time": "2024-06-03T10:00:18.886295",
     "status": "completed"
    },
    "tags": []
   },
   "outputs": [
    {
     "data": {
      "text/html": [
       "\n",
       "        \n",
       "        <link rel=\"stylesheet\" href=\"https://lean-lang.org/lean4/doc/alectryon.css\">\n",
       "        <link rel=\"stylesheet\" href=\"https://lean-lang.org/lean4/doc/pygments.css\">\n",
       "        <link rel=\"stylesheet\" href=\"https://cdn.jsdelivr.net/gh/utensil/lean4_jupyter@main/vendor/lean4_jupyter.css\">\n",
       "        <script src=\"https://lean-lang.org/lean4/doc/alectryon.js\"></script>\n",
       "        <script src=\"https://lean-lang.org/lean4/doc/highlight.js\"></script>\n",
       "    \n",
       "        <div class=\"alectryon-root alectryon-centered\">\n",
       "            <pre class=\"alectryon-io highlight\"><!-- Generator: Alectryon --><span class=\"alectryon-sentence\"><input class=\"alectryon-toggle\" id=\"chk0\" style=\"display: none\" type=\"checkbox\"><label class=\"alectryon-input\" for=\"chk0\"><span class=\"bp\">#</span>eval<span class=\"w\"> </span>Lean<span class=\"bp\">.</span>versionString</label><small class=\"alectryon-output\"><div><div class=\"alectryon-messages\"><blockquote class=\"alectryon-message\"> <span class=\"s2\">&quot;4.11.0&quot;</span></blockquote></div></div></small></span></pre>\n",
       "<pre class=\"alectryon-io highlight\"><!-- Generator: Alectryon --><span class=\"alectryon-sentence\"><span class=\"alectryon-input\"><span class=\"c1\">--% env 1</span></span></span></pre>\n",
       "        </div>\n",
       "        <details>\n",
       "            <summary>Raw input</summary>\n",
       "            <code>{\"cmd\": \"#eval Lean.versionString\", \"env\": 0}</code>\n",
       "        </details>\n",
       "        <details>\n",
       "            <summary>Raw output</summary>\n",
       "            <code>{\"messages\":\r\n",
       " [{\"severity\": \"info\",\r\n",
       "   \"pos\": {\"line\": 1, \"column\": 0},\r\n",
       "   \"endPos\": {\"line\": 1, \"column\": 5},\r\n",
       "   \"data\": \"\\\"4.11.0\\\"\"}],\r\n",
       " \"env\": 1}</code>\n",
       "        </details>\n",
       "    "
      ],
      "text/plain": [
       "#eval Lean.versionString\n",
       "─────▶  \"4.11.0\"\n",
       "--% env 1\n",
       "\n",
       "Raw input:\n",
       "{\"cmd\": \"#eval Lean.versionString\", \"env\": 0}\n",
       "Raw output:\n",
       "{\"messages\":\r\n",
       " [{\"severity\": \"info\",\r\n",
       "   \"pos\": {\"line\": 1, \"column\": 0},\r\n",
       "   \"endPos\": {\"line\": 1, \"column\": 5},\r\n",
       "   \"data\": \"\\\"4.11.0\\\"\"}],\r\n",
       " \"env\": 1}"
      ]
     },
     "metadata": {},
     "output_type": "display_data"
    }
   ],
   "source": [
    "#eval Lean.versionString"
   ]
  },
  {
   "cell_type": "markdown",
   "id": "bc5dd0ac-5bd1-44d7-b3ea-beb9902d2f41",
   "metadata": {
    "papermill": {
     "duration": 0.002257,
     "end_time": "2024-06-03T10:00:19.016788",
     "exception": false,
     "start_time": "2024-06-03T10:00:19.014531",
     "status": "completed"
    },
    "tags": []
   },
   "source": [
    "And you can see `hello` from `DemoProj` has been successfully imported:"
   ]
  },
  {
   "cell_type": "code",
   "execution_count": 3,
   "id": "7482de58-469b-420c-bfce-c7d6a0474a53",
   "metadata": {
    "papermill": {
     "duration": 0.12553,
     "end_time": "2024-06-03T10:00:19.144289",
     "exception": false,
     "start_time": "2024-06-03T10:00:19.018759",
     "status": "completed"
    },
    "tags": []
   },
   "outputs": [
    {
     "data": {
      "text/html": [
       "\n",
       "        \n",
       "        <link rel=\"stylesheet\" href=\"https://lean-lang.org/lean4/doc/alectryon.css\">\n",
       "        <link rel=\"stylesheet\" href=\"https://lean-lang.org/lean4/doc/pygments.css\">\n",
       "        <link rel=\"stylesheet\" href=\"https://cdn.jsdelivr.net/gh/utensil/lean4_jupyter@main/vendor/lean4_jupyter.css\">\n",
       "        <script src=\"https://lean-lang.org/lean4/doc/alectryon.js\"></script>\n",
       "        <script src=\"https://lean-lang.org/lean4/doc/highlight.js\"></script>\n",
       "    \n",
       "        <div class=\"alectryon-root alectryon-centered\">\n",
       "            <pre class=\"alectryon-io highlight\"><!-- Generator: Alectryon --><span class=\"alectryon-sentence\"><input class=\"alectryon-toggle\" id=\"chk1\" style=\"display: none\" type=\"checkbox\"><label class=\"alectryon-input\" for=\"chk1\"><span class=\"bp\">#</span>eval<span class=\"w\"> </span>hello</label><small class=\"alectryon-output\"><div><div class=\"alectryon-messages\"><blockquote class=\"alectryon-message\"> <span class=\"s2\">&quot;world&quot;</span></blockquote></div></div></small></span></pre>\n",
       "<pre class=\"alectryon-io highlight\"><!-- Generator: Alectryon --><span class=\"alectryon-sentence\"><span class=\"alectryon-input\"><span class=\"c1\">--% env 2</span></span></span></pre>\n",
       "        </div>\n",
       "        <details>\n",
       "            <summary>Raw input</summary>\n",
       "            <code>{\"cmd\": \"#eval hello\", \"env\": 1}</code>\n",
       "        </details>\n",
       "        <details>\n",
       "            <summary>Raw output</summary>\n",
       "            <code>{\"messages\":\r\n",
       " [{\"severity\": \"info\",\r\n",
       "   \"pos\": {\"line\": 1, \"column\": 0},\r\n",
       "   \"endPos\": {\"line\": 1, \"column\": 5},\r\n",
       "   \"data\": \"\\\"world\\\"\"}],\r\n",
       " \"env\": 2}</code>\n",
       "        </details>\n",
       "    "
      ],
      "text/plain": [
       "#eval hello\n",
       "─────▶  \"world\"\n",
       "--% env 2\n",
       "\n",
       "Raw input:\n",
       "{\"cmd\": \"#eval hello\", \"env\": 1}\n",
       "Raw output:\n",
       "{\"messages\":\r\n",
       " [{\"severity\": \"info\",\r\n",
       "   \"pos\": {\"line\": 1, \"column\": 0},\r\n",
       "   \"endPos\": {\"line\": 1, \"column\": 5},\r\n",
       "   \"data\": \"\\\"world\\\"\"}],\r\n",
       " \"env\": 2}"
      ]
     },
     "metadata": {},
     "output_type": "display_data"
    }
   ],
   "source": [
    "#eval hello"
   ]
  },
  {
   "cell_type": "markdown",
   "id": "b5ddd534-8408-4259-b845-b0ca77e7605d",
   "metadata": {
    "papermill": {
     "duration": 0.002282,
     "end_time": "2024-06-03T10:00:19.149151",
     "exception": false,
     "start_time": "2024-06-03T10:00:19.146869",
     "status": "completed"
    },
    "tags": []
   },
   "source": [
    "## Importing in the middle of a notebook\n",
    "\n",
    "Lean only allows import at the beginning of a \"file\". But in Jupyter notebook, not only you can import at the beginning of a notebook, you can also do so in the middle of a notebook by resetting the environment to an empty one using `--%env` or simply `%env`."
   ]
  },
  {
   "cell_type": "code",
   "execution_count": 4,
   "id": "5f7ad55f-28ef-450a-9e77-acd87bcfcae4",
   "metadata": {
    "papermill": {
     "duration": 9.892896,
     "end_time": "2024-06-03T10:00:29.044054",
     "exception": false,
     "start_time": "2024-06-03T10:00:19.151158",
     "status": "completed"
    },
    "tags": []
   },
   "outputs": [
    {
     "data": {
      "text/html": [
       "\n",
       "        \n",
       "        <link rel=\"stylesheet\" href=\"https://lean-lang.org/lean4/doc/alectryon.css\">\n",
       "        <link rel=\"stylesheet\" href=\"https://lean-lang.org/lean4/doc/pygments.css\">\n",
       "        <link rel=\"stylesheet\" href=\"https://cdn.jsdelivr.net/gh/utensil/lean4_jupyter@main/vendor/lean4_jupyter.css\">\n",
       "        <script src=\"https://lean-lang.org/lean4/doc/alectryon.js\"></script>\n",
       "        <script src=\"https://lean-lang.org/lean4/doc/highlight.js\"></script>\n",
       "    \n",
       "        <div class=\"alectryon-root alectryon-centered\">\n",
       "            <pre class=\"alectryon-io highlight\"><!-- Generator: Alectryon --><span class=\"alectryon-sentence\"><span class=\"alectryon-input\"><span class=\"c1\">--%env</span></span></span></pre>\n",
       "<pre class=\"alectryon-io highlight\"><!-- Generator: Alectryon --><span class=\"alectryon-sentence\"><span class=\"alectryon-input\"><span class=\"kn\">import</span><span class=\"w\"> </span>Mathlib</span></span></pre>\n",
       "<pre class=\"alectryon-io highlight\"><!-- Generator: Alectryon --><span class=\"alectryon-sentence\"><span class=\"alectryon-input\"><span class=\"c1\">--% env 3</span></span></span></pre>\n",
       "        </div>\n",
       "        <details>\n",
       "            <summary>Raw input</summary>\n",
       "            <code>{\"cmd\": \"--%env\\nimport Mathlib\"}</code>\n",
       "        </details>\n",
       "        <details>\n",
       "            <summary>Raw output</summary>\n",
       "            <code>{\"env\": 3}</code>\n",
       "        </details>\n",
       "    "
      ],
      "text/plain": [
       "--%env\n",
       "import Mathlib\n",
       "--% env 3\n",
       "\n",
       "Raw input:\n",
       "{\"cmd\": \"--%env\\nimport Mathlib\"}\n",
       "Raw output:\n",
       "{\"env\": 3}"
      ]
     },
     "metadata": {},
     "output_type": "display_data"
    }
   ],
   "source": [
    "%env\n",
    "import Mathlib"
   ]
  },
  {
   "cell_type": "code",
   "execution_count": 5,
   "id": "b0465a38-4c08-44c6-8294-11e1bd4d8c43",
   "metadata": {
    "papermill": {
     "duration": 0.122197,
     "end_time": "2024-06-03T10:00:29.172051",
     "exception": false,
     "start_time": "2024-06-03T10:00:29.049854",
     "status": "completed"
    },
    "tags": []
   },
   "outputs": [
    {
     "data": {
      "text/html": [
       "\n",
       "        \n",
       "        <link rel=\"stylesheet\" href=\"https://lean-lang.org/lean4/doc/alectryon.css\">\n",
       "        <link rel=\"stylesheet\" href=\"https://lean-lang.org/lean4/doc/pygments.css\">\n",
       "        <link rel=\"stylesheet\" href=\"https://cdn.jsdelivr.net/gh/utensil/lean4_jupyter@main/vendor/lean4_jupyter.css\">\n",
       "        <script src=\"https://lean-lang.org/lean4/doc/alectryon.js\"></script>\n",
       "        <script src=\"https://lean-lang.org/lean4/doc/highlight.js\"></script>\n",
       "    \n",
       "        <div class=\"alectryon-root alectryon-centered\">\n",
       "            <pre class=\"alectryon-io highlight\"><!-- Generator: Alectryon --><span class=\"alectryon-sentence\"><input class=\"alectryon-toggle\" id=\"chk2\" style=\"display: none\" type=\"checkbox\"><label class=\"alectryon-input\" for=\"chk2\"><span class=\"bp\">#</span>check<span class=\"w\"> </span>CliffordAlgebra</label><small class=\"alectryon-output\"><div><div class=\"alectryon-messages\"><blockquote class=\"alectryon-message\"> CliffordAlgebra<span class=\"bp\">.</span>{u_1,<span class=\"w\"> </span>u_2}<span class=\"w\"> </span>{R<span class=\"w\"> </span>:<span class=\"w\"> </span><span class=\"kt\">Type</span><span class=\"w\"> </span>u_1}<span class=\"w\"> </span>[CommRing<span class=\"w\"> </span>R]<span class=\"w\"> </span>{M<span class=\"w\"> </span>:<span class=\"w\"> </span><span class=\"kt\">Type</span><span class=\"w\"> </span>u_2}<span class=\"w\"> </span>[AddCommGroup<span class=\"w\"> </span>M]<span class=\"w\"> </span>[Module<span class=\"w\"> </span>R<span class=\"w\"> </span>M]\n",
       "<span class=\"w\">  </span>(Q<span class=\"w\"> </span>:<span class=\"w\"> </span>QuadraticForm<span class=\"w\"> </span>R<span class=\"w\"> </span>M)<span class=\"w\"> </span>:<span class=\"w\"> </span><span class=\"kt\">Type</span><span class=\"w\"> </span>(max<span class=\"w\"> </span>u_2<span class=\"w\"> </span>u_1)</blockquote></div></div></small></span></pre>\n",
       "<pre class=\"alectryon-io highlight\"><!-- Generator: Alectryon --><span class=\"alectryon-sentence\"><span class=\"alectryon-input\"><span class=\"c1\">--% env 4</span></span></span></pre>\n",
       "        </div>\n",
       "        <details>\n",
       "            <summary>Raw input</summary>\n",
       "            <code>{\"cmd\": \"#check CliffordAlgebra\", \"env\": 3}</code>\n",
       "        </details>\n",
       "        <details>\n",
       "            <summary>Raw output</summary>\n",
       "            <code>{\"messages\":\r\n",
       " [{\"severity\": \"info\",\r\n",
       "   \"pos\": {\"line\": 1, \"column\": 0},\r\n",
       "   \"endPos\": {\"line\": 1, \"column\": 6},\r\n",
       "   \"data\":\r\n",
       "   \"CliffordAlgebra.{u_1, u_2} {R : Type u_1} [CommRing R] {M : Type u_2} [AddCommGroup M] [Module R M]\\n  (Q : QuadraticForm R M) : Type (max u_2 u_1)\"}],\r\n",
       " \"env\": 4}</code>\n",
       "        </details>\n",
       "    "
      ],
      "text/plain": [
       "#check CliffordAlgebra\n",
       "──────▶  CliffordAlgebra.{u_1, u_2} {R : Type u_1} [CommRing R] {M : Type u_2} [AddCommGroup M] [Module R M]\n",
       "  (Q : QuadraticForm R M) : Type (max u_2 u_1)\n",
       "--% env 4\n",
       "\n",
       "Raw input:\n",
       "{\"cmd\": \"#check CliffordAlgebra\", \"env\": 3}\n",
       "Raw output:\n",
       "{\"messages\":\r\n",
       " [{\"severity\": \"info\",\r\n",
       "   \"pos\": {\"line\": 1, \"column\": 0},\r\n",
       "   \"endPos\": {\"line\": 1, \"column\": 6},\r\n",
       "   \"data\":\r\n",
       "   \"CliffordAlgebra.{u_1, u_2} {R : Type u_1} [CommRing R] {M : Type u_2} [AddCommGroup M] [Module R M]\\n  (Q : QuadraticForm R M) : Type (max u_2 u_1)\"}],\r\n",
       " \"env\": 4}"
      ]
     },
     "metadata": {},
     "output_type": "display_data"
    }
   ],
   "source": [
    "#check CliffordAlgebra"
   ]
  },
  {
   "cell_type": "markdown",
   "id": "ee47fe44-dcc8-4690-bdc5-ec1c1268f74e",
   "metadata": {
    "papermill": {
     "duration": 0.002802,
     "end_time": "2024-06-03T10:00:29.177486",
     "exception": false,
     "start_time": "2024-06-03T10:00:29.174684",
     "status": "completed"
    },
    "tags": []
   },
   "source": [
    "Note that you'll lose previous imports everytime you reset the environment."
   ]
  },
  {
   "cell_type": "code",
   "execution_count": 6,
   "id": "942b8c92-9bd5-4922-86e3-fdd80cec0b7d",
   "metadata": {
    "papermill": {
     "duration": 7.008,
     "end_time": "2024-06-03T10:00:36.187957",
     "exception": false,
     "start_time": "2024-06-03T10:00:29.179957",
     "status": "completed"
    },
    "tags": []
   },
   "outputs": [
    {
     "data": {
      "text/html": [
       "\n",
       "        \n",
       "        <link rel=\"stylesheet\" href=\"https://lean-lang.org/lean4/doc/alectryon.css\">\n",
       "        <link rel=\"stylesheet\" href=\"https://lean-lang.org/lean4/doc/pygments.css\">\n",
       "        <link rel=\"stylesheet\" href=\"https://cdn.jsdelivr.net/gh/utensil/lean4_jupyter@main/vendor/lean4_jupyter.css\">\n",
       "        <script src=\"https://lean-lang.org/lean4/doc/alectryon.js\"></script>\n",
       "        <script src=\"https://lean-lang.org/lean4/doc/highlight.js\"></script>\n",
       "    \n",
       "        <div class=\"alectryon-root alectryon-centered\">\n",
       "            <pre class=\"alectryon-io highlight\"><!-- Generator: Alectryon --><span class=\"alectryon-sentence\"><span class=\"alectryon-input\"><span class=\"c1\">--%env</span></span></span></pre>\n",
       "<pre class=\"alectryon-io highlight\"><!-- Generator: Alectryon --><span class=\"alectryon-sentence\"><span class=\"alectryon-input\"><span class=\"kn\">import</span><span class=\"w\"> </span>Mathlib<span class=\"bp\">.</span>Tactic</span></span></pre>\n",
       "<pre class=\"alectryon-io highlight\"><!-- Generator: Alectryon --><span class=\"alectryon-sentence\"><span class=\"alectryon-input\"><span class=\"c1\">--% env 5</span></span></span></pre>\n",
       "        </div>\n",
       "        <details>\n",
       "            <summary>Raw input</summary>\n",
       "            <code>{\"cmd\": \"--%env\\nimport Mathlib.Tactic\"}</code>\n",
       "        </details>\n",
       "        <details>\n",
       "            <summary>Raw output</summary>\n",
       "            <code>{\"env\": 5}</code>\n",
       "        </details>\n",
       "    "
      ],
      "text/plain": [
       "--%env\n",
       "import Mathlib.Tactic\n",
       "--% env 5\n",
       "\n",
       "Raw input:\n",
       "{\"cmd\": \"--%env\\nimport Mathlib.Tactic\"}\n",
       "Raw output:\n",
       "{\"env\": 5}"
      ]
     },
     "metadata": {},
     "output_type": "display_data"
    }
   ],
   "source": [
    "%env\n",
    "import Mathlib.Tactic"
   ]
  },
  {
   "cell_type": "markdown",
   "id": "5d3d8ac8-c758-4f65-9b75-19a0ba4eaa58",
   "metadata": {
    "papermill": {
     "duration": 0.002432,
     "end_time": "2024-06-03T10:00:36.194204",
     "exception": false,
     "start_time": "2024-06-03T10:00:36.191772",
     "status": "completed"
    },
    "tags": []
   },
   "source": [
    "The previous `Mathlib` import is lost, so the following will fail."
   ]
  },
  {
   "cell_type": "code",
   "execution_count": 7,
   "id": "16dd6d6c-ab7f-4a22-abff-d401a88e369a",
   "metadata": {
    "papermill": {
     "duration": 0.121274,
     "end_time": "2024-06-03T10:00:36.318141",
     "exception": false,
     "start_time": "2024-06-03T10:00:36.196867",
     "status": "completed"
    },
    "tags": []
   },
   "outputs": [
    {
     "data": {
      "text/html": [
       "\n",
       "        \n",
       "        <link rel=\"stylesheet\" href=\"https://lean-lang.org/lean4/doc/alectryon.css\">\n",
       "        <link rel=\"stylesheet\" href=\"https://lean-lang.org/lean4/doc/pygments.css\">\n",
       "        <link rel=\"stylesheet\" href=\"https://cdn.jsdelivr.net/gh/utensil/lean4_jupyter@main/vendor/lean4_jupyter.css\">\n",
       "        <script src=\"https://lean-lang.org/lean4/doc/alectryon.js\"></script>\n",
       "        <script src=\"https://lean-lang.org/lean4/doc/highlight.js\"></script>\n",
       "    \n",
       "        <div class=\"alectryon-root alectryon-centered\">\n",
       "            <pre class=\"alectryon-io highlight\"><!-- Generator: Alectryon --><span class=\"alectryon-sentence\"><input class=\"alectryon-toggle\" id=\"chk3\" style=\"display: none\" type=\"checkbox\"><label class=\"alectryon-input\" for=\"chk3\"><span class=\"bp\">#</span>check<span class=\"w\"> </span>CliffordAlgebra</label><small class=\"alectryon-output\"><div><div class=\"alectryon-messages\"><blockquote class=\"alectryon-message\"><span class=\"bp\">❌</span><span class=\"w\"> </span>unknown<span class=\"w\"> </span>identifier<span class=\"w\"> </span><span class=\"bp\">&#39;</span>CliffordAlgebra&#39;</blockquote></div></div></small></span></pre>\n",
       "<pre class=\"alectryon-io highlight\"><!-- Generator: Alectryon --><span class=\"alectryon-sentence\"><span class=\"alectryon-input\"><span class=\"c1\">--% env 6</span></span></span></pre>\n",
       "        </div>\n",
       "        <details>\n",
       "            <summary>Raw input</summary>\n",
       "            <code>{\"cmd\": \"#check CliffordAlgebra\", \"env\": 5}</code>\n",
       "        </details>\n",
       "        <details>\n",
       "            <summary>Raw output</summary>\n",
       "            <code>{\"messages\":\r\n",
       " [{\"severity\": \"error\",\r\n",
       "   \"pos\": {\"line\": 1, \"column\": 7},\r\n",
       "   \"endPos\": {\"line\": 1, \"column\": 22},\r\n",
       "   \"data\": \"unknown identifier 'CliffordAlgebra'\"}],\r\n",
       " \"env\": 6}</code>\n",
       "        </details>\n",
       "    "
      ],
      "text/plain": [
       "#check CliffordAlgebra\n",
       "       ───────────────▶ ❌ unknown identifier 'CliffordAlgebra'\n",
       "--% env 6\n",
       "\n",
       "Raw input:\n",
       "{\"cmd\": \"#check CliffordAlgebra\", \"env\": 5}\n",
       "Raw output:\n",
       "{\"messages\":\r\n",
       " [{\"severity\": \"error\",\r\n",
       "   \"pos\": {\"line\": 1, \"column\": 7},\r\n",
       "   \"endPos\": {\"line\": 1, \"column\": 22},\r\n",
       "   \"data\": \"unknown identifier 'CliffordAlgebra'\"}],\r\n",
       " \"env\": 6}"
      ]
     },
     "metadata": {},
     "output_type": "display_data"
    }
   ],
   "source": [
    "#check CliffordAlgebra"
   ]
  },
  {
   "cell_type": "markdown",
   "id": "9f3930a0-bd43-459a-b98a-3610b6300a3e",
   "metadata": {
    "papermill": {
     "duration": 0.010655,
     "end_time": "2024-06-03T10:00:36.349282",
     "exception": false,
     "start_time": "2024-06-03T10:00:36.338627",
     "status": "completed"
    },
    "tags": []
   },
   "source": [
    "But the following will succeed because `import Mathlib.Tactic` succeeded."
   ]
  },
  {
   "cell_type": "code",
   "execution_count": 8,
   "id": "4db21e45-512f-4734-affb-0d4d9efd2418",
   "metadata": {
    "papermill": {
     "duration": 0.116824,
     "end_time": "2024-06-03T10:00:36.468683",
     "exception": false,
     "start_time": "2024-06-03T10:00:36.351859",
     "status": "completed"
    },
    "tags": []
   },
   "outputs": [
    {
     "data": {
      "text/html": [
       "\n",
       "        \n",
       "        <link rel=\"stylesheet\" href=\"https://lean-lang.org/lean4/doc/alectryon.css\">\n",
       "        <link rel=\"stylesheet\" href=\"https://lean-lang.org/lean4/doc/pygments.css\">\n",
       "        <link rel=\"stylesheet\" href=\"https://cdn.jsdelivr.net/gh/utensil/lean4_jupyter@main/vendor/lean4_jupyter.css\">\n",
       "        <script src=\"https://lean-lang.org/lean4/doc/alectryon.js\"></script>\n",
       "        <script src=\"https://lean-lang.org/lean4/doc/highlight.js\"></script>\n",
       "    \n",
       "        <div class=\"alectryon-root alectryon-centered\">\n",
       "            <pre class=\"alectryon-io highlight\"><!-- Generator: Alectryon --><span class=\"alectryon-sentence\"><input class=\"alectryon-toggle\" id=\"chk4\" style=\"display: none\" type=\"checkbox\"><label class=\"alectryon-input\" for=\"chk4\"><span class=\"bp\">#</span>check<span class=\"w\"> </span>Algebra</label><small class=\"alectryon-output\"><div><div class=\"alectryon-messages\"><blockquote class=\"alectryon-message\"> Algebra<span class=\"bp\">.</span>{u,<span class=\"w\"> </span>v}<span class=\"w\"> </span>(R<span class=\"w\"> </span>:<span class=\"w\"> </span><span class=\"kt\">Type</span><span class=\"w\"> </span>u)<span class=\"w\"> </span>(A<span class=\"w\"> </span>:<span class=\"w\"> </span><span class=\"kt\">Type</span><span class=\"w\"> </span>v)<span class=\"w\"> </span>[CommSemiring<span class=\"w\"> </span>R]<span class=\"w\"> </span>[Semiring<span class=\"w\"> </span>A]<span class=\"w\"> </span>:<span class=\"w\"> </span><span class=\"kt\">Type</span><span class=\"w\"> </span>(max<span class=\"w\"> </span>u<span class=\"w\"> </span>v)</blockquote></div></div></small></span></pre>\n",
       "<pre class=\"alectryon-io highlight\"><!-- Generator: Alectryon --><span class=\"alectryon-sentence\"><span class=\"alectryon-input\"><span class=\"c1\">--% env 7</span></span></span></pre>\n",
       "        </div>\n",
       "        <details>\n",
       "            <summary>Raw input</summary>\n",
       "            <code>{\"cmd\": \"#check Algebra\", \"env\": 6}</code>\n",
       "        </details>\n",
       "        <details>\n",
       "            <summary>Raw output</summary>\n",
       "            <code>{\"messages\":\r\n",
       " [{\"severity\": \"info\",\r\n",
       "   \"pos\": {\"line\": 1, \"column\": 0},\r\n",
       "   \"endPos\": {\"line\": 1, \"column\": 6},\r\n",
       "   \"data\":\r\n",
       "   \"Algebra.{u, v} (R : Type u) (A : Type v) [CommSemiring R] [Semiring A] : Type (max u v)\"}],\r\n",
       " \"env\": 7}</code>\n",
       "        </details>\n",
       "    "
      ],
      "text/plain": [
       "#check Algebra\n",
       "──────▶  Algebra.{u, v} (R : Type u) (A : Type v) [CommSemiring R] [Semiring A] : Type (max u v)\n",
       "--% env 7\n",
       "\n",
       "Raw input:\n",
       "{\"cmd\": \"#check Algebra\", \"env\": 6}\n",
       "Raw output:\n",
       "{\"messages\":\r\n",
       " [{\"severity\": \"info\",\r\n",
       "   \"pos\": {\"line\": 1, \"column\": 0},\r\n",
       "   \"endPos\": {\"line\": 1, \"column\": 6},\r\n",
       "   \"data\":\r\n",
       "   \"Algebra.{u, v} (R : Type u) (A : Type v) [CommSemiring R] [Semiring A] : Type (max u v)\"}],\r\n",
       " \"env\": 7}"
      ]
     },
     "metadata": {},
     "output_type": "display_data"
    }
   ],
   "source": [
    "#check Algebra"
   ]
  },
  {
   "cell_type": "code",
   "execution_count": null,
   "id": "10299896-be20-4d52-ba03-a0011ca0d470",
   "metadata": {
    "papermill": {
     "duration": 0.002453,
     "end_time": "2024-06-03T10:00:36.473932",
     "exception": false,
     "start_time": "2024-06-03T10:00:36.471479",
     "status": "completed"
    },
    "tags": []
   },
   "outputs": [],
   "source": []
  }
 ],
 "metadata": {
  "kernelspec": {
   "display_name": "Lean 4",
   "language": "lean4",
   "name": "lean4"
  },
  "language_info": {
   "codemirror_mode": "python",
   "file_extension": ".lean",
   "mimetype": "text/x-lean4",
   "name": "lean4"
  },
  "papermill": {
   "default_parameters": {},
   "duration": 36.090695,
   "end_time": "2024-06-03T10:00:36.796593",
   "environment_variables": {},
   "exception": null,
   "parameters": {},
   "start_time": "2024-06-03T10:00:00.705898",
   "version": "2.6.0"
  }
 },
 "nbformat": 4,
 "nbformat_minor": 5
}
